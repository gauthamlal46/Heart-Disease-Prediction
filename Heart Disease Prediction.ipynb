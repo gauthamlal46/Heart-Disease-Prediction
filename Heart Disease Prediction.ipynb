{
 "cells": [
  {
   "cell_type": "markdown",
   "id": "07aca922",
   "metadata": {},
   "source": [
    "# Business Case: Predict whether a patient is having heart disease or not"
   ]
  },
  {
   "cell_type": "markdown",
   "id": "4e64334f",
   "metadata": {},
   "source": [
    "### Importing Libraries"
   ]
  },
  {
   "cell_type": "code",
   "execution_count": 1,
   "id": "83f8b55c",
   "metadata": {},
   "outputs": [],
   "source": [
    "import numpy as np\n",
    "import pandas as pd\n",
    "import matplotlib.pyplot as plt\n",
    "%matplotlib inline\n",
    "import seaborn as sns\n",
    "import warnings\n",
    "warnings.filterwarnings('ignore')"
   ]
  },
  {
   "cell_type": "markdown",
   "id": "6fd84717",
   "metadata": {},
   "source": [
    "### Importing the dataset"
   ]
  },
  {
   "cell_type": "code",
   "execution_count": 2,
   "id": "df79e291",
   "metadata": {},
   "outputs": [],
   "source": [
    "data_x = pd.read_csv('values.csv')\n",
    "data_y = pd.read_csv('labels.csv')"
   ]
  },
  {
   "cell_type": "markdown",
   "id": "39a0e690",
   "metadata": {},
   "source": [
    "### Basic Checks"
   ]
  },
  {
   "cell_type": "code",
   "execution_count": 3,
   "id": "ab632ff9",
   "metadata": {
    "scrolled": true
   },
   "outputs": [
    {
     "data": {
      "text/html": [
       "<div>\n",
       "<style scoped>\n",
       "    .dataframe tbody tr th:only-of-type {\n",
       "        vertical-align: middle;\n",
       "    }\n",
       "\n",
       "    .dataframe tbody tr th {\n",
       "        vertical-align: top;\n",
       "    }\n",
       "\n",
       "    .dataframe thead th {\n",
       "        text-align: right;\n",
       "    }\n",
       "</style>\n",
       "<table border=\"1\" class=\"dataframe\">\n",
       "  <thead>\n",
       "    <tr style=\"text-align: right;\">\n",
       "      <th></th>\n",
       "      <th>patient_id</th>\n",
       "      <th>slope_of_peak_exercise_st_segment</th>\n",
       "      <th>thal</th>\n",
       "      <th>resting_blood_pressure</th>\n",
       "      <th>chest_pain_type</th>\n",
       "      <th>num_major_vessels</th>\n",
       "      <th>fasting_blood_sugar_gt_120_mg_per_dl</th>\n",
       "      <th>resting_ekg_results</th>\n",
       "      <th>serum_cholesterol_mg_per_dl</th>\n",
       "      <th>oldpeak_eq_st_depression</th>\n",
       "      <th>sex</th>\n",
       "      <th>age</th>\n",
       "      <th>max_heart_rate_achieved</th>\n",
       "      <th>exercise_induced_angina</th>\n",
       "    </tr>\n",
       "  </thead>\n",
       "  <tbody>\n",
       "    <tr>\n",
       "      <th>0</th>\n",
       "      <td>0z64un</td>\n",
       "      <td>1</td>\n",
       "      <td>normal</td>\n",
       "      <td>128</td>\n",
       "      <td>2</td>\n",
       "      <td>0</td>\n",
       "      <td>0</td>\n",
       "      <td>2</td>\n",
       "      <td>308</td>\n",
       "      <td>0.0</td>\n",
       "      <td>1</td>\n",
       "      <td>45</td>\n",
       "      <td>170</td>\n",
       "      <td>0</td>\n",
       "    </tr>\n",
       "    <tr>\n",
       "      <th>1</th>\n",
       "      <td>ryoo3j</td>\n",
       "      <td>2</td>\n",
       "      <td>normal</td>\n",
       "      <td>110</td>\n",
       "      <td>3</td>\n",
       "      <td>0</td>\n",
       "      <td>0</td>\n",
       "      <td>0</td>\n",
       "      <td>214</td>\n",
       "      <td>1.6</td>\n",
       "      <td>0</td>\n",
       "      <td>54</td>\n",
       "      <td>158</td>\n",
       "      <td>0</td>\n",
       "    </tr>\n",
       "    <tr>\n",
       "      <th>2</th>\n",
       "      <td>yt1s1x</td>\n",
       "      <td>1</td>\n",
       "      <td>normal</td>\n",
       "      <td>125</td>\n",
       "      <td>4</td>\n",
       "      <td>3</td>\n",
       "      <td>0</td>\n",
       "      <td>2</td>\n",
       "      <td>304</td>\n",
       "      <td>0.0</td>\n",
       "      <td>1</td>\n",
       "      <td>77</td>\n",
       "      <td>162</td>\n",
       "      <td>1</td>\n",
       "    </tr>\n",
       "    <tr>\n",
       "      <th>3</th>\n",
       "      <td>l2xjde</td>\n",
       "      <td>1</td>\n",
       "      <td>reversible_defect</td>\n",
       "      <td>152</td>\n",
       "      <td>4</td>\n",
       "      <td>0</td>\n",
       "      <td>0</td>\n",
       "      <td>0</td>\n",
       "      <td>223</td>\n",
       "      <td>0.0</td>\n",
       "      <td>1</td>\n",
       "      <td>40</td>\n",
       "      <td>181</td>\n",
       "      <td>0</td>\n",
       "    </tr>\n",
       "    <tr>\n",
       "      <th>4</th>\n",
       "      <td>oyt4ek</td>\n",
       "      <td>3</td>\n",
       "      <td>reversible_defect</td>\n",
       "      <td>178</td>\n",
       "      <td>1</td>\n",
       "      <td>0</td>\n",
       "      <td>0</td>\n",
       "      <td>2</td>\n",
       "      <td>270</td>\n",
       "      <td>4.2</td>\n",
       "      <td>1</td>\n",
       "      <td>59</td>\n",
       "      <td>145</td>\n",
       "      <td>0</td>\n",
       "    </tr>\n",
       "  </tbody>\n",
       "</table>\n",
       "</div>"
      ],
      "text/plain": [
       "  patient_id  slope_of_peak_exercise_st_segment               thal  \\\n",
       "0     0z64un                                  1             normal   \n",
       "1     ryoo3j                                  2             normal   \n",
       "2     yt1s1x                                  1             normal   \n",
       "3     l2xjde                                  1  reversible_defect   \n",
       "4     oyt4ek                                  3  reversible_defect   \n",
       "\n",
       "   resting_blood_pressure  chest_pain_type  num_major_vessels  \\\n",
       "0                     128                2                  0   \n",
       "1                     110                3                  0   \n",
       "2                     125                4                  3   \n",
       "3                     152                4                  0   \n",
       "4                     178                1                  0   \n",
       "\n",
       "   fasting_blood_sugar_gt_120_mg_per_dl  resting_ekg_results  \\\n",
       "0                                     0                    2   \n",
       "1                                     0                    0   \n",
       "2                                     0                    2   \n",
       "3                                     0                    0   \n",
       "4                                     0                    2   \n",
       "\n",
       "   serum_cholesterol_mg_per_dl  oldpeak_eq_st_depression  sex  age  \\\n",
       "0                          308                       0.0    1   45   \n",
       "1                          214                       1.6    0   54   \n",
       "2                          304                       0.0    1   77   \n",
       "3                          223                       0.0    1   40   \n",
       "4                          270                       4.2    1   59   \n",
       "\n",
       "   max_heart_rate_achieved  exercise_induced_angina  \n",
       "0                      170                        0  \n",
       "1                      158                        0  \n",
       "2                      162                        1  \n",
       "3                      181                        0  \n",
       "4                      145                        0  "
      ]
     },
     "execution_count": 3,
     "metadata": {},
     "output_type": "execute_result"
    }
   ],
   "source": [
    "data_x.head()"
   ]
  },
  {
   "cell_type": "code",
   "execution_count": 4,
   "id": "b1790811",
   "metadata": {},
   "outputs": [],
   "source": [
    "data_x.drop('patient_id', axis = 1, inplace =True)"
   ]
  },
  {
   "cell_type": "code",
   "execution_count": 5,
   "id": "41231e45",
   "metadata": {},
   "outputs": [],
   "source": [
    "data_x.rename(columns = {'slope_of_peak_exercise_st_segment' : 'slope', 'resting_blood_pressure' : 'bp', 'chest_pain_type' : 'cp', 'num_major_vessels' : 'major_vessels', 'fasting_blood_sugar_gt_120_mg_per_dl' : 'blood_sugar', 'resting_ekg_results' : 'rest_ecg', 'serum_cholesterol_mg_per_dl' : 'cholesterol', 'oldpeak_eq_st_depression' : 'oldpeak', 'max_heart_rate_achieved' : 'heart_rate', 'exercise_induced_angina' : 'angina'}, inplace = True)"
   ]
  },
  {
   "cell_type": "code",
   "execution_count": 6,
   "id": "adc14ccd",
   "metadata": {},
   "outputs": [
    {
     "data": {
      "text/html": [
       "<div>\n",
       "<style scoped>\n",
       "    .dataframe tbody tr th:only-of-type {\n",
       "        vertical-align: middle;\n",
       "    }\n",
       "\n",
       "    .dataframe tbody tr th {\n",
       "        vertical-align: top;\n",
       "    }\n",
       "\n",
       "    .dataframe thead th {\n",
       "        text-align: right;\n",
       "    }\n",
       "</style>\n",
       "<table border=\"1\" class=\"dataframe\">\n",
       "  <thead>\n",
       "    <tr style=\"text-align: right;\">\n",
       "      <th></th>\n",
       "      <th>slope</th>\n",
       "      <th>thal</th>\n",
       "      <th>bp</th>\n",
       "      <th>cp</th>\n",
       "      <th>major_vessels</th>\n",
       "      <th>blood_sugar</th>\n",
       "      <th>rest_ecg</th>\n",
       "      <th>cholesterol</th>\n",
       "      <th>oldpeak</th>\n",
       "      <th>sex</th>\n",
       "      <th>age</th>\n",
       "      <th>heart_rate</th>\n",
       "      <th>angina</th>\n",
       "    </tr>\n",
       "  </thead>\n",
       "  <tbody>\n",
       "    <tr>\n",
       "      <th>0</th>\n",
       "      <td>1</td>\n",
       "      <td>normal</td>\n",
       "      <td>128</td>\n",
       "      <td>2</td>\n",
       "      <td>0</td>\n",
       "      <td>0</td>\n",
       "      <td>2</td>\n",
       "      <td>308</td>\n",
       "      <td>0.0</td>\n",
       "      <td>1</td>\n",
       "      <td>45</td>\n",
       "      <td>170</td>\n",
       "      <td>0</td>\n",
       "    </tr>\n",
       "    <tr>\n",
       "      <th>1</th>\n",
       "      <td>2</td>\n",
       "      <td>normal</td>\n",
       "      <td>110</td>\n",
       "      <td>3</td>\n",
       "      <td>0</td>\n",
       "      <td>0</td>\n",
       "      <td>0</td>\n",
       "      <td>214</td>\n",
       "      <td>1.6</td>\n",
       "      <td>0</td>\n",
       "      <td>54</td>\n",
       "      <td>158</td>\n",
       "      <td>0</td>\n",
       "    </tr>\n",
       "    <tr>\n",
       "      <th>2</th>\n",
       "      <td>1</td>\n",
       "      <td>normal</td>\n",
       "      <td>125</td>\n",
       "      <td>4</td>\n",
       "      <td>3</td>\n",
       "      <td>0</td>\n",
       "      <td>2</td>\n",
       "      <td>304</td>\n",
       "      <td>0.0</td>\n",
       "      <td>1</td>\n",
       "      <td>77</td>\n",
       "      <td>162</td>\n",
       "      <td>1</td>\n",
       "    </tr>\n",
       "    <tr>\n",
       "      <th>3</th>\n",
       "      <td>1</td>\n",
       "      <td>reversible_defect</td>\n",
       "      <td>152</td>\n",
       "      <td>4</td>\n",
       "      <td>0</td>\n",
       "      <td>0</td>\n",
       "      <td>0</td>\n",
       "      <td>223</td>\n",
       "      <td>0.0</td>\n",
       "      <td>1</td>\n",
       "      <td>40</td>\n",
       "      <td>181</td>\n",
       "      <td>0</td>\n",
       "    </tr>\n",
       "    <tr>\n",
       "      <th>4</th>\n",
       "      <td>3</td>\n",
       "      <td>reversible_defect</td>\n",
       "      <td>178</td>\n",
       "      <td>1</td>\n",
       "      <td>0</td>\n",
       "      <td>0</td>\n",
       "      <td>2</td>\n",
       "      <td>270</td>\n",
       "      <td>4.2</td>\n",
       "      <td>1</td>\n",
       "      <td>59</td>\n",
       "      <td>145</td>\n",
       "      <td>0</td>\n",
       "    </tr>\n",
       "  </tbody>\n",
       "</table>\n",
       "</div>"
      ],
      "text/plain": [
       "   slope               thal   bp  cp  major_vessels  blood_sugar  rest_ecg  \\\n",
       "0      1             normal  128   2              0            0         2   \n",
       "1      2             normal  110   3              0            0         0   \n",
       "2      1             normal  125   4              3            0         2   \n",
       "3      1  reversible_defect  152   4              0            0         0   \n",
       "4      3  reversible_defect  178   1              0            0         2   \n",
       "\n",
       "   cholesterol  oldpeak  sex  age  heart_rate  angina  \n",
       "0          308      0.0    1   45         170       0  \n",
       "1          214      1.6    0   54         158       0  \n",
       "2          304      0.0    1   77         162       1  \n",
       "3          223      0.0    1   40         181       0  \n",
       "4          270      4.2    1   59         145       0  "
      ]
     },
     "execution_count": 6,
     "metadata": {},
     "output_type": "execute_result"
    }
   ],
   "source": [
    "data_x.head()"
   ]
  },
  {
   "cell_type": "code",
   "execution_count": 7,
   "id": "08b9e8d8",
   "metadata": {
    "scrolled": true
   },
   "outputs": [
    {
     "data": {
      "text/html": [
       "<div>\n",
       "<style scoped>\n",
       "    .dataframe tbody tr th:only-of-type {\n",
       "        vertical-align: middle;\n",
       "    }\n",
       "\n",
       "    .dataframe tbody tr th {\n",
       "        vertical-align: top;\n",
       "    }\n",
       "\n",
       "    .dataframe thead th {\n",
       "        text-align: right;\n",
       "    }\n",
       "</style>\n",
       "<table border=\"1\" class=\"dataframe\">\n",
       "  <thead>\n",
       "    <tr style=\"text-align: right;\">\n",
       "      <th></th>\n",
       "      <th>patient_id</th>\n",
       "      <th>heart_disease_present</th>\n",
       "    </tr>\n",
       "  </thead>\n",
       "  <tbody>\n",
       "    <tr>\n",
       "      <th>0</th>\n",
       "      <td>0z64un</td>\n",
       "      <td>0</td>\n",
       "    </tr>\n",
       "    <tr>\n",
       "      <th>1</th>\n",
       "      <td>ryoo3j</td>\n",
       "      <td>0</td>\n",
       "    </tr>\n",
       "    <tr>\n",
       "      <th>2</th>\n",
       "      <td>yt1s1x</td>\n",
       "      <td>1</td>\n",
       "    </tr>\n",
       "    <tr>\n",
       "      <th>3</th>\n",
       "      <td>l2xjde</td>\n",
       "      <td>1</td>\n",
       "    </tr>\n",
       "    <tr>\n",
       "      <th>4</th>\n",
       "      <td>oyt4ek</td>\n",
       "      <td>0</td>\n",
       "    </tr>\n",
       "  </tbody>\n",
       "</table>\n",
       "</div>"
      ],
      "text/plain": [
       "  patient_id  heart_disease_present\n",
       "0     0z64un                      0\n",
       "1     ryoo3j                      0\n",
       "2     yt1s1x                      1\n",
       "3     l2xjde                      1\n",
       "4     oyt4ek                      0"
      ]
     },
     "execution_count": 7,
     "metadata": {},
     "output_type": "execute_result"
    }
   ],
   "source": [
    "data_y.head()"
   ]
  },
  {
   "cell_type": "code",
   "execution_count": 8,
   "id": "ca9f17f0",
   "metadata": {},
   "outputs": [
    {
     "data": {
      "text/html": [
       "<div>\n",
       "<style scoped>\n",
       "    .dataframe tbody tr th:only-of-type {\n",
       "        vertical-align: middle;\n",
       "    }\n",
       "\n",
       "    .dataframe tbody tr th {\n",
       "        vertical-align: top;\n",
       "    }\n",
       "\n",
       "    .dataframe thead th {\n",
       "        text-align: right;\n",
       "    }\n",
       "</style>\n",
       "<table border=\"1\" class=\"dataframe\">\n",
       "  <thead>\n",
       "    <tr style=\"text-align: right;\">\n",
       "      <th></th>\n",
       "      <th>id</th>\n",
       "      <th>target</th>\n",
       "    </tr>\n",
       "  </thead>\n",
       "  <tbody>\n",
       "    <tr>\n",
       "      <th>0</th>\n",
       "      <td>0z64un</td>\n",
       "      <td>0</td>\n",
       "    </tr>\n",
       "    <tr>\n",
       "      <th>1</th>\n",
       "      <td>ryoo3j</td>\n",
       "      <td>0</td>\n",
       "    </tr>\n",
       "    <tr>\n",
       "      <th>2</th>\n",
       "      <td>yt1s1x</td>\n",
       "      <td>1</td>\n",
       "    </tr>\n",
       "    <tr>\n",
       "      <th>3</th>\n",
       "      <td>l2xjde</td>\n",
       "      <td>1</td>\n",
       "    </tr>\n",
       "    <tr>\n",
       "      <th>4</th>\n",
       "      <td>oyt4ek</td>\n",
       "      <td>0</td>\n",
       "    </tr>\n",
       "  </tbody>\n",
       "</table>\n",
       "</div>"
      ],
      "text/plain": [
       "       id  target\n",
       "0  0z64un       0\n",
       "1  ryoo3j       0\n",
       "2  yt1s1x       1\n",
       "3  l2xjde       1\n",
       "4  oyt4ek       0"
      ]
     },
     "execution_count": 8,
     "metadata": {},
     "output_type": "execute_result"
    }
   ],
   "source": [
    "data_y.rename(columns = {'patient_id' : 'id', 'heart_disease_present' : 'target'}, inplace = True)\n",
    "data_y.head()"
   ]
  },
  {
   "cell_type": "code",
   "execution_count": 9,
   "id": "460e78fc",
   "metadata": {},
   "outputs": [
    {
     "data": {
      "text/plain": [
       "(180, 13)"
      ]
     },
     "execution_count": 9,
     "metadata": {},
     "output_type": "execute_result"
    }
   ],
   "source": [
    "data_x.shape"
   ]
  },
  {
   "cell_type": "code",
   "execution_count": 10,
   "id": "183df61d",
   "metadata": {},
   "outputs": [
    {
     "data": {
      "text/plain": [
       "(180, 2)"
      ]
     },
     "execution_count": 10,
     "metadata": {},
     "output_type": "execute_result"
    }
   ],
   "source": [
    "data_y.shape"
   ]
  },
  {
   "cell_type": "code",
   "execution_count": 11,
   "id": "d88140ea",
   "metadata": {},
   "outputs": [
    {
     "data": {
      "text/html": [
       "<div>\n",
       "<style scoped>\n",
       "    .dataframe tbody tr th:only-of-type {\n",
       "        vertical-align: middle;\n",
       "    }\n",
       "\n",
       "    .dataframe tbody tr th {\n",
       "        vertical-align: top;\n",
       "    }\n",
       "\n",
       "    .dataframe thead th {\n",
       "        text-align: right;\n",
       "    }\n",
       "</style>\n",
       "<table border=\"1\" class=\"dataframe\">\n",
       "  <thead>\n",
       "    <tr style=\"text-align: right;\">\n",
       "      <th></th>\n",
       "      <th>slope</th>\n",
       "      <th>bp</th>\n",
       "      <th>cp</th>\n",
       "      <th>major_vessels</th>\n",
       "      <th>blood_sugar</th>\n",
       "      <th>rest_ecg</th>\n",
       "      <th>cholesterol</th>\n",
       "      <th>oldpeak</th>\n",
       "      <th>sex</th>\n",
       "      <th>age</th>\n",
       "      <th>heart_rate</th>\n",
       "      <th>angina</th>\n",
       "    </tr>\n",
       "  </thead>\n",
       "  <tbody>\n",
       "    <tr>\n",
       "      <th>count</th>\n",
       "      <td>180.000000</td>\n",
       "      <td>180.000000</td>\n",
       "      <td>180.000000</td>\n",
       "      <td>180.000000</td>\n",
       "      <td>180.000000</td>\n",
       "      <td>180.000000</td>\n",
       "      <td>180.000000</td>\n",
       "      <td>180.000000</td>\n",
       "      <td>180.000000</td>\n",
       "      <td>180.000000</td>\n",
       "      <td>180.000000</td>\n",
       "      <td>180.000000</td>\n",
       "    </tr>\n",
       "    <tr>\n",
       "      <th>mean</th>\n",
       "      <td>1.550000</td>\n",
       "      <td>131.311111</td>\n",
       "      <td>3.155556</td>\n",
       "      <td>0.694444</td>\n",
       "      <td>0.161111</td>\n",
       "      <td>1.050000</td>\n",
       "      <td>249.211111</td>\n",
       "      <td>1.010000</td>\n",
       "      <td>0.688889</td>\n",
       "      <td>54.811111</td>\n",
       "      <td>149.483333</td>\n",
       "      <td>0.316667</td>\n",
       "    </tr>\n",
       "    <tr>\n",
       "      <th>std</th>\n",
       "      <td>0.618838</td>\n",
       "      <td>17.010443</td>\n",
       "      <td>0.938454</td>\n",
       "      <td>0.969347</td>\n",
       "      <td>0.368659</td>\n",
       "      <td>0.998742</td>\n",
       "      <td>52.717969</td>\n",
       "      <td>1.121357</td>\n",
       "      <td>0.464239</td>\n",
       "      <td>9.334737</td>\n",
       "      <td>22.063513</td>\n",
       "      <td>0.466474</td>\n",
       "    </tr>\n",
       "    <tr>\n",
       "      <th>min</th>\n",
       "      <td>1.000000</td>\n",
       "      <td>94.000000</td>\n",
       "      <td>1.000000</td>\n",
       "      <td>0.000000</td>\n",
       "      <td>0.000000</td>\n",
       "      <td>0.000000</td>\n",
       "      <td>126.000000</td>\n",
       "      <td>0.000000</td>\n",
       "      <td>0.000000</td>\n",
       "      <td>29.000000</td>\n",
       "      <td>96.000000</td>\n",
       "      <td>0.000000</td>\n",
       "    </tr>\n",
       "    <tr>\n",
       "      <th>25%</th>\n",
       "      <td>1.000000</td>\n",
       "      <td>120.000000</td>\n",
       "      <td>3.000000</td>\n",
       "      <td>0.000000</td>\n",
       "      <td>0.000000</td>\n",
       "      <td>0.000000</td>\n",
       "      <td>213.750000</td>\n",
       "      <td>0.000000</td>\n",
       "      <td>0.000000</td>\n",
       "      <td>48.000000</td>\n",
       "      <td>132.000000</td>\n",
       "      <td>0.000000</td>\n",
       "    </tr>\n",
       "    <tr>\n",
       "      <th>50%</th>\n",
       "      <td>1.000000</td>\n",
       "      <td>130.000000</td>\n",
       "      <td>3.000000</td>\n",
       "      <td>0.000000</td>\n",
       "      <td>0.000000</td>\n",
       "      <td>2.000000</td>\n",
       "      <td>245.500000</td>\n",
       "      <td>0.800000</td>\n",
       "      <td>1.000000</td>\n",
       "      <td>55.000000</td>\n",
       "      <td>152.000000</td>\n",
       "      <td>0.000000</td>\n",
       "    </tr>\n",
       "    <tr>\n",
       "      <th>75%</th>\n",
       "      <td>2.000000</td>\n",
       "      <td>140.000000</td>\n",
       "      <td>4.000000</td>\n",
       "      <td>1.000000</td>\n",
       "      <td>0.000000</td>\n",
       "      <td>2.000000</td>\n",
       "      <td>281.250000</td>\n",
       "      <td>1.600000</td>\n",
       "      <td>1.000000</td>\n",
       "      <td>62.000000</td>\n",
       "      <td>166.250000</td>\n",
       "      <td>1.000000</td>\n",
       "    </tr>\n",
       "    <tr>\n",
       "      <th>max</th>\n",
       "      <td>3.000000</td>\n",
       "      <td>180.000000</td>\n",
       "      <td>4.000000</td>\n",
       "      <td>3.000000</td>\n",
       "      <td>1.000000</td>\n",
       "      <td>2.000000</td>\n",
       "      <td>564.000000</td>\n",
       "      <td>6.200000</td>\n",
       "      <td>1.000000</td>\n",
       "      <td>77.000000</td>\n",
       "      <td>202.000000</td>\n",
       "      <td>1.000000</td>\n",
       "    </tr>\n",
       "  </tbody>\n",
       "</table>\n",
       "</div>"
      ],
      "text/plain": [
       "            slope          bp          cp  major_vessels  blood_sugar  \\\n",
       "count  180.000000  180.000000  180.000000     180.000000   180.000000   \n",
       "mean     1.550000  131.311111    3.155556       0.694444     0.161111   \n",
       "std      0.618838   17.010443    0.938454       0.969347     0.368659   \n",
       "min      1.000000   94.000000    1.000000       0.000000     0.000000   \n",
       "25%      1.000000  120.000000    3.000000       0.000000     0.000000   \n",
       "50%      1.000000  130.000000    3.000000       0.000000     0.000000   \n",
       "75%      2.000000  140.000000    4.000000       1.000000     0.000000   \n",
       "max      3.000000  180.000000    4.000000       3.000000     1.000000   \n",
       "\n",
       "         rest_ecg  cholesterol     oldpeak         sex         age  \\\n",
       "count  180.000000   180.000000  180.000000  180.000000  180.000000   \n",
       "mean     1.050000   249.211111    1.010000    0.688889   54.811111   \n",
       "std      0.998742    52.717969    1.121357    0.464239    9.334737   \n",
       "min      0.000000   126.000000    0.000000    0.000000   29.000000   \n",
       "25%      0.000000   213.750000    0.000000    0.000000   48.000000   \n",
       "50%      2.000000   245.500000    0.800000    1.000000   55.000000   \n",
       "75%      2.000000   281.250000    1.600000    1.000000   62.000000   \n",
       "max      2.000000   564.000000    6.200000    1.000000   77.000000   \n",
       "\n",
       "       heart_rate      angina  \n",
       "count  180.000000  180.000000  \n",
       "mean   149.483333    0.316667  \n",
       "std     22.063513    0.466474  \n",
       "min     96.000000    0.000000  \n",
       "25%    132.000000    0.000000  \n",
       "50%    152.000000    0.000000  \n",
       "75%    166.250000    1.000000  \n",
       "max    202.000000    1.000000  "
      ]
     },
     "execution_count": 11,
     "metadata": {},
     "output_type": "execute_result"
    }
   ],
   "source": [
    "data_x.describe()"
   ]
  },
  {
   "cell_type": "code",
   "execution_count": 12,
   "id": "dfe9f793",
   "metadata": {},
   "outputs": [
    {
     "data": {
      "text/html": [
       "<div>\n",
       "<style scoped>\n",
       "    .dataframe tbody tr th:only-of-type {\n",
       "        vertical-align: middle;\n",
       "    }\n",
       "\n",
       "    .dataframe tbody tr th {\n",
       "        vertical-align: top;\n",
       "    }\n",
       "\n",
       "    .dataframe thead th {\n",
       "        text-align: right;\n",
       "    }\n",
       "</style>\n",
       "<table border=\"1\" class=\"dataframe\">\n",
       "  <thead>\n",
       "    <tr style=\"text-align: right;\">\n",
       "      <th></th>\n",
       "      <th>target</th>\n",
       "    </tr>\n",
       "  </thead>\n",
       "  <tbody>\n",
       "    <tr>\n",
       "      <th>count</th>\n",
       "      <td>180.000000</td>\n",
       "    </tr>\n",
       "    <tr>\n",
       "      <th>mean</th>\n",
       "      <td>0.444444</td>\n",
       "    </tr>\n",
       "    <tr>\n",
       "      <th>std</th>\n",
       "      <td>0.498290</td>\n",
       "    </tr>\n",
       "    <tr>\n",
       "      <th>min</th>\n",
       "      <td>0.000000</td>\n",
       "    </tr>\n",
       "    <tr>\n",
       "      <th>25%</th>\n",
       "      <td>0.000000</td>\n",
       "    </tr>\n",
       "    <tr>\n",
       "      <th>50%</th>\n",
       "      <td>0.000000</td>\n",
       "    </tr>\n",
       "    <tr>\n",
       "      <th>75%</th>\n",
       "      <td>1.000000</td>\n",
       "    </tr>\n",
       "    <tr>\n",
       "      <th>max</th>\n",
       "      <td>1.000000</td>\n",
       "    </tr>\n",
       "  </tbody>\n",
       "</table>\n",
       "</div>"
      ],
      "text/plain": [
       "           target\n",
       "count  180.000000\n",
       "mean     0.444444\n",
       "std      0.498290\n",
       "min      0.000000\n",
       "25%      0.000000\n",
       "50%      0.000000\n",
       "75%      1.000000\n",
       "max      1.000000"
      ]
     },
     "execution_count": 12,
     "metadata": {},
     "output_type": "execute_result"
    }
   ],
   "source": [
    "data_y.describe()"
   ]
  },
  {
   "cell_type": "code",
   "execution_count": 13,
   "id": "062b59d0",
   "metadata": {},
   "outputs": [
    {
     "name": "stdout",
     "output_type": "stream",
     "text": [
      "<class 'pandas.core.frame.DataFrame'>\n",
      "RangeIndex: 180 entries, 0 to 179\n",
      "Data columns (total 13 columns):\n",
      " #   Column         Non-Null Count  Dtype  \n",
      "---  ------         --------------  -----  \n",
      " 0   slope          180 non-null    int64  \n",
      " 1   thal           180 non-null    object \n",
      " 2   bp             180 non-null    int64  \n",
      " 3   cp             180 non-null    int64  \n",
      " 4   major_vessels  180 non-null    int64  \n",
      " 5   blood_sugar    180 non-null    int64  \n",
      " 6   rest_ecg       180 non-null    int64  \n",
      " 7   cholesterol    180 non-null    int64  \n",
      " 8   oldpeak        180 non-null    float64\n",
      " 9   sex            180 non-null    int64  \n",
      " 10  age            180 non-null    int64  \n",
      " 11  heart_rate     180 non-null    int64  \n",
      " 12  angina         180 non-null    int64  \n",
      "dtypes: float64(1), int64(11), object(1)\n",
      "memory usage: 18.4+ KB\n"
     ]
    }
   ],
   "source": [
    "data_x.info()"
   ]
  },
  {
   "cell_type": "code",
   "execution_count": 14,
   "id": "cf42e651",
   "metadata": {
    "scrolled": true
   },
   "outputs": [
    {
     "name": "stdout",
     "output_type": "stream",
     "text": [
      "<class 'pandas.core.frame.DataFrame'>\n",
      "RangeIndex: 180 entries, 0 to 179\n",
      "Data columns (total 2 columns):\n",
      " #   Column  Non-Null Count  Dtype \n",
      "---  ------  --------------  ----- \n",
      " 0   id      180 non-null    object\n",
      " 1   target  180 non-null    int64 \n",
      "dtypes: int64(1), object(1)\n",
      "memory usage: 2.9+ KB\n"
     ]
    }
   ],
   "source": [
    "data_y.info()"
   ]
  },
  {
   "cell_type": "code",
   "execution_count": 15,
   "id": "e0e3b46e",
   "metadata": {
    "scrolled": true
   },
   "outputs": [
    {
     "data": {
      "text/plain": [
       "slope            0\n",
       "thal             0\n",
       "bp               0\n",
       "cp               0\n",
       "major_vessels    0\n",
       "blood_sugar      0\n",
       "rest_ecg         0\n",
       "cholesterol      0\n",
       "oldpeak          0\n",
       "sex              0\n",
       "age              0\n",
       "heart_rate       0\n",
       "angina           0\n",
       "dtype: int64"
      ]
     },
     "execution_count": 15,
     "metadata": {},
     "output_type": "execute_result"
    }
   ],
   "source": [
    "data_x.isnull().sum()"
   ]
  },
  {
   "cell_type": "code",
   "execution_count": 16,
   "id": "f561bbe3",
   "metadata": {},
   "outputs": [
    {
     "data": {
      "text/plain": [
       "id        0\n",
       "target    0\n",
       "dtype: int64"
      ]
     },
     "execution_count": 16,
     "metadata": {},
     "output_type": "execute_result"
    }
   ],
   "source": [
    "data_y.isnull().sum()"
   ]
  },
  {
   "cell_type": "markdown",
   "id": "09535022",
   "metadata": {},
   "source": [
    "**There are no missing values**"
   ]
  },
  {
   "cell_type": "code",
   "execution_count": 17,
   "id": "9d0965c5",
   "metadata": {},
   "outputs": [
    {
     "data": {
      "text/plain": [
       "array([0, 1], dtype=int64)"
      ]
     },
     "execution_count": 17,
     "metadata": {},
     "output_type": "execute_result"
    }
   ],
   "source": [
    "data_y['target'].unique()"
   ]
  },
  {
   "cell_type": "code",
   "execution_count": 18,
   "id": "ba1780d3",
   "metadata": {},
   "outputs": [],
   "source": [
    "#Clearly, this is a classification problem, with the target variable having values '0' and '1"
   ]
  },
  {
   "cell_type": "markdown",
   "id": "0cdf0a25",
   "metadata": {},
   "source": [
    "### Checking correlation between columns"
   ]
  },
  {
   "cell_type": "code",
   "execution_count": 19,
   "id": "5261c170",
   "metadata": {},
   "outputs": [
    {
     "data": {
      "text/html": [
       "<div>\n",
       "<style scoped>\n",
       "    .dataframe tbody tr th:only-of-type {\n",
       "        vertical-align: middle;\n",
       "    }\n",
       "\n",
       "    .dataframe tbody tr th {\n",
       "        vertical-align: top;\n",
       "    }\n",
       "\n",
       "    .dataframe thead th {\n",
       "        text-align: right;\n",
       "    }\n",
       "</style>\n",
       "<table border=\"1\" class=\"dataframe\">\n",
       "  <thead>\n",
       "    <tr style=\"text-align: right;\">\n",
       "      <th></th>\n",
       "      <th>slope</th>\n",
       "      <th>thal</th>\n",
       "      <th>bp</th>\n",
       "      <th>cp</th>\n",
       "      <th>major_vessels</th>\n",
       "      <th>blood_sugar</th>\n",
       "      <th>rest_ecg</th>\n",
       "      <th>cholesterol</th>\n",
       "      <th>oldpeak</th>\n",
       "      <th>sex</th>\n",
       "      <th>age</th>\n",
       "      <th>heart_rate</th>\n",
       "      <th>angina</th>\n",
       "      <th>target</th>\n",
       "    </tr>\n",
       "  </thead>\n",
       "  <tbody>\n",
       "    <tr>\n",
       "      <th>0</th>\n",
       "      <td>1</td>\n",
       "      <td>normal</td>\n",
       "      <td>128</td>\n",
       "      <td>2</td>\n",
       "      <td>0</td>\n",
       "      <td>0</td>\n",
       "      <td>2</td>\n",
       "      <td>308</td>\n",
       "      <td>0.0</td>\n",
       "      <td>1</td>\n",
       "      <td>45</td>\n",
       "      <td>170</td>\n",
       "      <td>0</td>\n",
       "      <td>0</td>\n",
       "    </tr>\n",
       "    <tr>\n",
       "      <th>1</th>\n",
       "      <td>2</td>\n",
       "      <td>normal</td>\n",
       "      <td>110</td>\n",
       "      <td>3</td>\n",
       "      <td>0</td>\n",
       "      <td>0</td>\n",
       "      <td>0</td>\n",
       "      <td>214</td>\n",
       "      <td>1.6</td>\n",
       "      <td>0</td>\n",
       "      <td>54</td>\n",
       "      <td>158</td>\n",
       "      <td>0</td>\n",
       "      <td>0</td>\n",
       "    </tr>\n",
       "    <tr>\n",
       "      <th>2</th>\n",
       "      <td>1</td>\n",
       "      <td>normal</td>\n",
       "      <td>125</td>\n",
       "      <td>4</td>\n",
       "      <td>3</td>\n",
       "      <td>0</td>\n",
       "      <td>2</td>\n",
       "      <td>304</td>\n",
       "      <td>0.0</td>\n",
       "      <td>1</td>\n",
       "      <td>77</td>\n",
       "      <td>162</td>\n",
       "      <td>1</td>\n",
       "      <td>1</td>\n",
       "    </tr>\n",
       "    <tr>\n",
       "      <th>3</th>\n",
       "      <td>1</td>\n",
       "      <td>reversible_defect</td>\n",
       "      <td>152</td>\n",
       "      <td>4</td>\n",
       "      <td>0</td>\n",
       "      <td>0</td>\n",
       "      <td>0</td>\n",
       "      <td>223</td>\n",
       "      <td>0.0</td>\n",
       "      <td>1</td>\n",
       "      <td>40</td>\n",
       "      <td>181</td>\n",
       "      <td>0</td>\n",
       "      <td>1</td>\n",
       "    </tr>\n",
       "    <tr>\n",
       "      <th>4</th>\n",
       "      <td>3</td>\n",
       "      <td>reversible_defect</td>\n",
       "      <td>178</td>\n",
       "      <td>1</td>\n",
       "      <td>0</td>\n",
       "      <td>0</td>\n",
       "      <td>2</td>\n",
       "      <td>270</td>\n",
       "      <td>4.2</td>\n",
       "      <td>1</td>\n",
       "      <td>59</td>\n",
       "      <td>145</td>\n",
       "      <td>0</td>\n",
       "      <td>0</td>\n",
       "    </tr>\n",
       "    <tr>\n",
       "      <th>...</th>\n",
       "      <td>...</td>\n",
       "      <td>...</td>\n",
       "      <td>...</td>\n",
       "      <td>...</td>\n",
       "      <td>...</td>\n",
       "      <td>...</td>\n",
       "      <td>...</td>\n",
       "      <td>...</td>\n",
       "      <td>...</td>\n",
       "      <td>...</td>\n",
       "      <td>...</td>\n",
       "      <td>...</td>\n",
       "      <td>...</td>\n",
       "      <td>...</td>\n",
       "    </tr>\n",
       "    <tr>\n",
       "      <th>175</th>\n",
       "      <td>2</td>\n",
       "      <td>reversible_defect</td>\n",
       "      <td>125</td>\n",
       "      <td>4</td>\n",
       "      <td>2</td>\n",
       "      <td>1</td>\n",
       "      <td>0</td>\n",
       "      <td>254</td>\n",
       "      <td>0.2</td>\n",
       "      <td>1</td>\n",
       "      <td>67</td>\n",
       "      <td>163</td>\n",
       "      <td>0</td>\n",
       "      <td>1</td>\n",
       "    </tr>\n",
       "    <tr>\n",
       "      <th>176</th>\n",
       "      <td>2</td>\n",
       "      <td>normal</td>\n",
       "      <td>180</td>\n",
       "      <td>4</td>\n",
       "      <td>0</td>\n",
       "      <td>0</td>\n",
       "      <td>1</td>\n",
       "      <td>327</td>\n",
       "      <td>3.4</td>\n",
       "      <td>0</td>\n",
       "      <td>55</td>\n",
       "      <td>117</td>\n",
       "      <td>1</td>\n",
       "      <td>1</td>\n",
       "    </tr>\n",
       "    <tr>\n",
       "      <th>177</th>\n",
       "      <td>2</td>\n",
       "      <td>reversible_defect</td>\n",
       "      <td>125</td>\n",
       "      <td>3</td>\n",
       "      <td>0</td>\n",
       "      <td>0</td>\n",
       "      <td>0</td>\n",
       "      <td>309</td>\n",
       "      <td>1.8</td>\n",
       "      <td>1</td>\n",
       "      <td>64</td>\n",
       "      <td>131</td>\n",
       "      <td>1</td>\n",
       "      <td>1</td>\n",
       "    </tr>\n",
       "    <tr>\n",
       "      <th>178</th>\n",
       "      <td>1</td>\n",
       "      <td>normal</td>\n",
       "      <td>124</td>\n",
       "      <td>3</td>\n",
       "      <td>2</td>\n",
       "      <td>1</td>\n",
       "      <td>0</td>\n",
       "      <td>255</td>\n",
       "      <td>0.0</td>\n",
       "      <td>1</td>\n",
       "      <td>48</td>\n",
       "      <td>175</td>\n",
       "      <td>0</td>\n",
       "      <td>0</td>\n",
       "    </tr>\n",
       "    <tr>\n",
       "      <th>179</th>\n",
       "      <td>1</td>\n",
       "      <td>normal</td>\n",
       "      <td>160</td>\n",
       "      <td>3</td>\n",
       "      <td>1</td>\n",
       "      <td>0</td>\n",
       "      <td>0</td>\n",
       "      <td>201</td>\n",
       "      <td>0.0</td>\n",
       "      <td>0</td>\n",
       "      <td>54</td>\n",
       "      <td>163</td>\n",
       "      <td>0</td>\n",
       "      <td>0</td>\n",
       "    </tr>\n",
       "  </tbody>\n",
       "</table>\n",
       "<p>180 rows × 14 columns</p>\n",
       "</div>"
      ],
      "text/plain": [
       "     slope               thal   bp  cp  major_vessels  blood_sugar  rest_ecg  \\\n",
       "0        1             normal  128   2              0            0         2   \n",
       "1        2             normal  110   3              0            0         0   \n",
       "2        1             normal  125   4              3            0         2   \n",
       "3        1  reversible_defect  152   4              0            0         0   \n",
       "4        3  reversible_defect  178   1              0            0         2   \n",
       "..     ...                ...  ...  ..            ...          ...       ...   \n",
       "175      2  reversible_defect  125   4              2            1         0   \n",
       "176      2             normal  180   4              0            0         1   \n",
       "177      2  reversible_defect  125   3              0            0         0   \n",
       "178      1             normal  124   3              2            1         0   \n",
       "179      1             normal  160   3              1            0         0   \n",
       "\n",
       "     cholesterol  oldpeak  sex  age  heart_rate  angina  target  \n",
       "0            308      0.0    1   45         170       0       0  \n",
       "1            214      1.6    0   54         158       0       0  \n",
       "2            304      0.0    1   77         162       1       1  \n",
       "3            223      0.0    1   40         181       0       1  \n",
       "4            270      4.2    1   59         145       0       0  \n",
       "..           ...      ...  ...  ...         ...     ...     ...  \n",
       "175          254      0.2    1   67         163       0       1  \n",
       "176          327      3.4    0   55         117       1       1  \n",
       "177          309      1.8    1   64         131       1       1  \n",
       "178          255      0.0    1   48         175       0       0  \n",
       "179          201      0.0    0   54         163       0       0  \n",
       "\n",
       "[180 rows x 14 columns]"
      ]
     },
     "execution_count": 19,
     "metadata": {},
     "output_type": "execute_result"
    }
   ],
   "source": [
    "data = pd.concat([data_x, data_y['target']], axis = 1)\n",
    "data"
   ]
  },
  {
   "cell_type": "code",
   "execution_count": 20,
   "id": "6f34a6c9",
   "metadata": {
    "scrolled": true
   },
   "outputs": [
    {
     "data": {
      "text/plain": [
       "target           1.000000\n",
       "angina           0.448647\n",
       "major_vessels    0.421519\n",
       "cp               0.412829\n",
       "oldpeak          0.382930\n",
       "heart_rate       0.375352\n",
       "slope            0.344224\n",
       "sex              0.335421\n",
       "rest_ecg         0.145933\n",
       "age              0.138255\n",
       "cholesterol      0.079775\n",
       "bp               0.078506\n",
       "blood_sugar      0.003379\n",
       "Name: target, dtype: float64"
      ]
     },
     "execution_count": 20,
     "metadata": {},
     "output_type": "execute_result"
    }
   ],
   "source": [
    "data.corr()['target'].abs().sort_values(ascending=False)"
   ]
  },
  {
   "cell_type": "markdown",
   "id": "2bf4e931",
   "metadata": {},
   "source": [
    "**This shows that most columns are moderately correlated with target, but 'blood_sugar' is very weakly correlated.**"
   ]
  },
  {
   "cell_type": "markdown",
   "id": "382f167f",
   "metadata": {},
   "source": [
    "# Exploratory Data Analysis (EDA)"
   ]
  },
  {
   "cell_type": "markdown",
   "id": "fc6239a7",
   "metadata": {},
   "source": [
    "### Analysing the target variable:"
   ]
  },
  {
   "cell_type": "code",
   "execution_count": 21,
   "id": "992bc568",
   "metadata": {},
   "outputs": [
    {
     "data": {
      "image/png": "[encoded data removed]",
      "text/plain": [
       "<Figure size 432x288 with 1 Axes>"
      ]
     },
     "metadata": {
      "needs_background": "light"
     },
     "output_type": "display_data"
    },
    {
     "name": "stdout",
     "output_type": "stream",
     "text": [
      "0    100\n",
      "1     80\n",
      "Name: target, dtype: int64\n"
     ]
    }
   ],
   "source": [
    "y = data_y['target']\n",
    "sns.countplot(y)\n",
    "plt.show()\n",
    "temp = data['target'].value_counts()\n",
    "print(temp)"
   ]
  },
  {
   "cell_type": "code",
   "execution_count": 22,
   "id": "5765cadb",
   "metadata": {},
   "outputs": [
    {
     "name": "stdout",
     "output_type": "stream",
     "text": [
      "Percentage of patience without heart problems: 55.56\n",
      "Percentage of patience with heart problems: 44.44\n"
     ]
    }
   ],
   "source": [
    "print(\"Percentage of patients without heart problems: \"+str(round(temp[0]*100/180,2)))\n",
    "print(\"Percentage of patients with heart problems: \"+str(round(temp[1]*100/180,2)))"
   ]
  },
  {
   "cell_type": "markdown",
   "id": "49204dd9",
   "metadata": {},
   "source": [
    "### Analysing the slope Feature"
   ]
  },
  {
   "cell_type": "code",
   "execution_count": 23,
   "id": "79afc639",
   "metadata": {},
   "outputs": [
    {
     "data": {
      "text/plain": [
       "array([1, 2, 3], dtype=int64)"
      ]
     },
     "execution_count": 23,
     "metadata": {},
     "output_type": "execute_result"
    }
   ],
   "source": [
    "data['slope'].unique()"
   ]
  },
  {
   "cell_type": "code",
   "execution_count": 24,
   "id": "dfd9d119",
   "metadata": {},
   "outputs": [
    {
     "data": {
      "text/plain": [
       "<AxesSubplot:xlabel='slope', ylabel='target'>"
      ]
     },
     "execution_count": 24,
     "metadata": {},
     "output_type": "execute_result"
    },
    {
     "data": {
      "image/png": "[encoded data removed]",
      "text/plain": [
       "<Figure size 432x288 with 1 Axes>"
      ]
     },
     "metadata": {
      "needs_background": "light"
     },
     "output_type": "display_data"
    }
   ],
   "source": [
    "sns.barplot(data[\"slope\"],y)"
   ]
  },
  {
   "cell_type": "markdown",
   "id": "6917a59d",
   "metadata": {},
   "source": [
    "**People with slope value 3 have more chances of getting heart disease**"
   ]
  },
  {
   "cell_type": "markdown",
   "id": "51a32b7d",
   "metadata": {},
   "source": [
    "### Analysing thal feature"
   ]
  },
  {
   "cell_type": "code",
   "execution_count": 25,
   "id": "c197f711",
   "metadata": {},
   "outputs": [
    {
     "data": {
      "text/plain": [
       "array(['normal', 'reversible_defect', 'fixed_defect'], dtype=object)"
      ]
     },
     "execution_count": 25,
     "metadata": {},
     "output_type": "execute_result"
    }
   ],
   "source": [
    "data['thal'].unique()"
   ]
  },
  {
   "cell_type": "code",
   "execution_count": 26,
   "id": "5645d4e8",
   "metadata": {},
   "outputs": [
    {
     "data": {
      "text/plain": [
       "<AxesSubplot:xlabel='thal', ylabel='target'>"
      ]
     },
     "execution_count": 26,
     "metadata": {},
     "output_type": "execute_result"
    },
    {
     "data": {
      "image/png": "[encoded data removed]",
      "text/plain": [
       "<Figure size 432x288 with 1 Axes>"
      ]
     },
     "metadata": {
      "needs_background": "light"
     },
     "output_type": "display_data"
    }
   ],
   "source": [
    "sns.barplot(data[\"thal\"],y)"
   ]
  },
  {
   "cell_type": "markdown",
   "id": "29f04a3b",
   "metadata": {},
   "source": [
    "**People with reversible defect are the majority having heart diseases.**"
   ]
  },
  {
   "cell_type": "markdown",
   "id": "0a0559ce",
   "metadata": {},
   "source": [
    "### Analysing cp Feature"
   ]
  },
  {
   "cell_type": "code",
   "execution_count": 27,
   "id": "c0eef1b4",
   "metadata": {},
   "outputs": [
    {
     "data": {
      "text/plain": [
       "array([2, 3, 4, 1], dtype=int64)"
      ]
     },
     "execution_count": 27,
     "metadata": {},
     "output_type": "execute_result"
    }
   ],
   "source": [
    "data.cp.unique()"
   ]
  },
  {
   "cell_type": "code",
   "execution_count": 28,
   "id": "d24fd0e7",
   "metadata": {},
   "outputs": [
    {
     "data": {
      "text/plain": [
       "<AxesSubplot:xlabel='cp', ylabel='target'>"
      ]
     },
     "execution_count": 28,
     "metadata": {},
     "output_type": "execute_result"
    },
    {
     "data": {
      "image/png": "[encoded data removed]",
      "text/plain": [
       "<Figure size 432x288 with 1 Axes>"
      ]
     },
     "metadata": {
      "needs_background": "light"
     },
     "output_type": "display_data"
    }
   ],
   "source": [
    "sns.barplot(data[\"cp\"],y)"
   ]
  },
  {
   "cell_type": "markdown",
   "id": "2243dcd4",
   "metadata": {},
   "source": [
    "**People with chest pain type 4 have heart diseases the most.**"
   ]
  },
  {
   "cell_type": "markdown",
   "id": "72066c17",
   "metadata": {},
   "source": [
    "### Analysing major_vessels Feature"
   ]
  },
  {
   "cell_type": "code",
   "execution_count": 29,
   "id": "feb73f3a",
   "metadata": {},
   "outputs": [],
   "source": [
    "#number of major vessels (0-3) colored by flourosopy"
   ]
  },
  {
   "cell_type": "code",
   "execution_count": 30,
   "id": "fe5e5578",
   "metadata": {},
   "outputs": [
    {
     "data": {
      "text/plain": [
       "array([0, 3, 2, 1], dtype=int64)"
      ]
     },
     "execution_count": 30,
     "metadata": {},
     "output_type": "execute_result"
    }
   ],
   "source": [
    "data.major_vessels.unique()"
   ]
  },
  {
   "cell_type": "code",
   "execution_count": 31,
   "id": "6a4b5d24",
   "metadata": {},
   "outputs": [
    {
     "data": {
      "text/plain": [
       "<AxesSubplot:xlabel='major_vessels', ylabel='count'>"
      ]
     },
     "execution_count": 31,
     "metadata": {},
     "output_type": "execute_result"
    },
    {
     "data": {
      "image/png": "[encoded data removed]",
      "text/plain": [
       "<Figure size 432x288 with 1 Axes>"
      ]
     },
     "metadata": {
      "needs_background": "light"
     },
     "output_type": "display_data"
    }
   ],
   "source": [
    "sns.countplot(data['major_vessels'])"
   ]
  },
  {
   "cell_type": "code",
   "execution_count": 32,
   "id": "40c362a7",
   "metadata": {},
   "outputs": [
    {
     "data": {
      "text/plain": [
       "<AxesSubplot:xlabel='major_vessels', ylabel='target'>"
      ]
     },
     "execution_count": 32,
     "metadata": {},
     "output_type": "execute_result"
    },
    {
     "data": {
      "image/png": "[encoded data removed]",
      "text/plain": [
       "<Figure size 432x288 with 1 Axes>"
      ]
     },
     "metadata": {
      "needs_background": "light"
     },
     "output_type": "display_data"
    }
   ],
   "source": [
    "sns.barplot(data['major_vessels'],y)"
   ]
  },
  {
   "cell_type": "markdown",
   "id": "2bd9e0bd",
   "metadata": {},
   "source": [
    "**People with 3 major vessels are more prone to heart diseases.**"
   ]
  },
  {
   "cell_type": "markdown",
   "id": "5550ad19",
   "metadata": {},
   "source": [
    "### Analysing blood_sugar Feature"
   ]
  },
  {
   "cell_type": "code",
   "execution_count": 33,
   "id": "fffa7948",
   "metadata": {},
   "outputs": [
    {
     "data": {
      "text/plain": [
       "array([0, 1], dtype=int64)"
      ]
     },
     "execution_count": 33,
     "metadata": {},
     "output_type": "execute_result"
    }
   ],
   "source": [
    "data.blood_sugar.unique()"
   ]
  },
  {
   "cell_type": "code",
   "execution_count": 34,
   "id": "2810869d",
   "metadata": {},
   "outputs": [
    {
     "data": {
      "text/plain": [
       "<AxesSubplot:xlabel='blood_sugar', ylabel='count'>"
      ]
     },
     "execution_count": 34,
     "metadata": {},
     "output_type": "execute_result"
    },
    {
     "data": {
      "image/png": "[encoded data removed]",
      "text/plain": [
       "<Figure size 432x288 with 1 Axes>"
      ]
     },
     "metadata": {
      "needs_background": "light"
     },
     "output_type": "display_data"
    }
   ],
   "source": [
    "sns.countplot(data['blood_sugar'])"
   ]
  },
  {
   "cell_type": "code",
   "execution_count": 35,
   "id": "1c1c0c54",
   "metadata": {},
   "outputs": [
    {
     "data": {
      "text/plain": [
       "<AxesSubplot:xlabel='blood_sugar', ylabel='target'>"
      ]
     },
     "execution_count": 35,
     "metadata": {},
     "output_type": "execute_result"
    },
    {
     "data": {
      "image/png": "[encoded data removed]",
      "text/plain": [
       "<Figure size 432x288 with 1 Axes>"
      ]
     },
     "metadata": {
      "needs_background": "light"
     },
     "output_type": "display_data"
    }
   ],
   "source": [
    "sns.barplot(data['blood_sugar'],y)"
   ]
  },
  {
   "cell_type": "markdown",
   "id": "b892a03f",
   "metadata": {},
   "source": [
    "**Fasting blood sugar doesn't have much effect on heart disease.**"
   ]
  },
  {
   "cell_type": "markdown",
   "id": "84b9e0aa",
   "metadata": {},
   "source": [
    "### Analysing rest_ecg Feature"
   ]
  },
  {
   "cell_type": "code",
   "execution_count": 36,
   "id": "c6f29a67",
   "metadata": {},
   "outputs": [
    {
     "data": {
      "text/plain": [
       "array([2, 0, 1], dtype=int64)"
      ]
     },
     "execution_count": 36,
     "metadata": {},
     "output_type": "execute_result"
    }
   ],
   "source": [
    "data.rest_ecg.unique()"
   ]
  },
  {
   "cell_type": "code",
   "execution_count": 37,
   "id": "a6848988",
   "metadata": {},
   "outputs": [
    {
     "data": {
      "text/plain": [
       "<AxesSubplot:xlabel='rest_ecg', ylabel='count'>"
      ]
     },
     "execution_count": 37,
     "metadata": {},
     "output_type": "execute_result"
    },
    {
     "data": {
      "image/png": "[encoded data removed]",
      "text/plain": [
       "<Figure size 432x288 with 1 Axes>"
      ]
     },
     "metadata": {
      "needs_background": "light"
     },
     "output_type": "display_data"
    }
   ],
   "source": [
    "sns.countplot(data['rest_ecg'])"
   ]
  },
  {
   "cell_type": "code",
   "execution_count": 38,
   "id": "24531a44",
   "metadata": {},
   "outputs": [
    {
     "data": {
      "text/plain": [
       "<AxesSubplot:xlabel='rest_ecg', ylabel='target'>"
      ]
     },
     "execution_count": 38,
     "metadata": {},
     "output_type": "execute_result"
    },
    {
     "data": {
      "image/png": "[encoded data removed]",
      "text/plain": [
       "<Figure size 432x288 with 1 Axes>"
      ]
     },
     "metadata": {
      "needs_background": "light"
     },
     "output_type": "display_data"
    }
   ],
   "source": [
    "sns.barplot(data['rest_ecg'],y)"
   ]
  },
  {
   "cell_type": "markdown",
   "id": "942700c8",
   "metadata": {},
   "source": [
    "**People with resting electrocardiographic value 1 are more likely to have heart disease.**"
   ]
  },
  {
   "cell_type": "markdown",
   "id": "7d12a615",
   "metadata": {},
   "source": [
    "### Analysing sex Feature"
   ]
  },
  {
   "cell_type": "code",
   "execution_count": 39,
   "id": "c8c1b44d",
   "metadata": {},
   "outputs": [
    {
     "data": {
      "text/plain": [
       "array([1, 0], dtype=int64)"
      ]
     },
     "execution_count": 39,
     "metadata": {},
     "output_type": "execute_result"
    }
   ],
   "source": [
    "data.sex.unique()"
   ]
  },
  {
   "cell_type": "code",
   "execution_count": 40,
   "id": "d933aa52",
   "metadata": {},
   "outputs": [
    {
     "data": {
      "text/plain": [
       "<AxesSubplot:xlabel='sex', ylabel='count'>"
      ]
     },
     "execution_count": 40,
     "metadata": {},
     "output_type": "execute_result"
    },
    {
     "data": {
      "image/png": "[encoded data removed]",
      "text/plain": [
       "<Figure size 432x288 with 1 Axes>"
      ]
     },
     "metadata": {
      "needs_background": "light"
     },
     "output_type": "display_data"
    }
   ],
   "source": [
    "sns.countplot(data['sex'])"
   ]
  },
  {
   "cell_type": "code",
   "execution_count": 41,
   "id": "2a65df20",
   "metadata": {},
   "outputs": [
    {
     "data": {
      "text/plain": [
       "<AxesSubplot:xlabel='sex', ylabel='target'>"
      ]
     },
     "execution_count": 41,
     "metadata": {},
     "output_type": "execute_result"
    },
    {
     "data": {
      "image/png": "[encoded data removed]",
      "text/plain": [
       "<Figure size 432x288 with 1 Axes>"
      ]
     },
     "metadata": {
      "needs_background": "light"
     },
     "output_type": "display_data"
    }
   ],
   "source": [
    "sns.barplot(data['sex'],y)"
   ]
  },
  {
   "cell_type": "markdown",
   "id": "01a2a9de",
   "metadata": {},
   "source": [
    "**Males have more than 2 times chance to get heart disease when compared to females.**"
   ]
  },
  {
   "cell_type": "markdown",
   "id": "22d81d89",
   "metadata": {},
   "source": [
    "### Analysing angina Feature"
   ]
  },
  {
   "cell_type": "code",
   "execution_count": 42,
   "id": "81424fb2",
   "metadata": {},
   "outputs": [
    {
     "data": {
      "text/plain": [
       "array([0, 1], dtype=int64)"
      ]
     },
     "execution_count": 42,
     "metadata": {},
     "output_type": "execute_result"
    }
   ],
   "source": [
    "data.angina.unique()"
   ]
  },
  {
   "cell_type": "code",
   "execution_count": 43,
   "id": "5aadd8da",
   "metadata": {},
   "outputs": [
    {
     "data": {
      "text/plain": [
       "<AxesSubplot:xlabel='angina', ylabel='count'>"
      ]
     },
     "execution_count": 43,
     "metadata": {},
     "output_type": "execute_result"
    },
    {
     "data": {
      "image/png": "[encoded data removed]",
      "text/plain": [
       "<Figure size 432x288 with 1 Axes>"
      ]
     },
     "metadata": {
      "needs_background": "light"
     },
     "output_type": "display_data"
    }
   ],
   "source": [
    "sns.countplot(data['angina'])"
   ]
  },
  {
   "cell_type": "code",
   "execution_count": 44,
   "id": "ffb43dc5",
   "metadata": {},
   "outputs": [
    {
     "data": {
      "text/plain": [
       "<AxesSubplot:xlabel='angina', ylabel='target'>"
      ]
     },
     "execution_count": 44,
     "metadata": {},
     "output_type": "execute_result"
    },
    {
     "data": {
      "image/png": "[encoded data removed]",
      "text/plain": [
       "<Figure size 432x288 with 1 Axes>"
      ]
     },
     "metadata": {
      "needs_background": "light"
     },
     "output_type": "display_data"
    }
   ],
   "source": [
    "sns.barplot(data['angina'],y)"
   ]
  },
  {
   "cell_type": "markdown",
   "id": "1e21fcbd",
   "metadata": {},
   "source": [
    "**Patients having excercise induced chest pain are more prone to heart diseases.**"
   ]
  },
  {
   "cell_type": "markdown",
   "id": "b884d88a",
   "metadata": {},
   "source": [
    "## Handling the Categorical Features"
   ]
  },
  {
   "cell_type": "code",
   "execution_count": 45,
   "id": "40535391",
   "metadata": {
    "scrolled": true
   },
   "outputs": [
    {
     "data": {
      "text/html": [
       "<div>\n",
       "<style scoped>\n",
       "    .dataframe tbody tr th:only-of-type {\n",
       "        vertical-align: middle;\n",
       "    }\n",
       "\n",
       "    .dataframe tbody tr th {\n",
       "        vertical-align: top;\n",
       "    }\n",
       "\n",
       "    .dataframe thead th {\n",
       "        text-align: right;\n",
       "    }\n",
       "</style>\n",
       "<table border=\"1\" class=\"dataframe\">\n",
       "  <thead>\n",
       "    <tr style=\"text-align: right;\">\n",
       "      <th></th>\n",
       "      <th>thal_normal</th>\n",
       "      <th>thal_reversible_defect</th>\n",
       "    </tr>\n",
       "  </thead>\n",
       "  <tbody>\n",
       "    <tr>\n",
       "      <th>0</th>\n",
       "      <td>1</td>\n",
       "      <td>0</td>\n",
       "    </tr>\n",
       "    <tr>\n",
       "      <th>1</th>\n",
       "      <td>1</td>\n",
       "      <td>0</td>\n",
       "    </tr>\n",
       "    <tr>\n",
       "      <th>2</th>\n",
       "      <td>1</td>\n",
       "      <td>0</td>\n",
       "    </tr>\n",
       "    <tr>\n",
       "      <th>3</th>\n",
       "      <td>0</td>\n",
       "      <td>1</td>\n",
       "    </tr>\n",
       "    <tr>\n",
       "      <th>4</th>\n",
       "      <td>0</td>\n",
       "      <td>1</td>\n",
       "    </tr>\n",
       "  </tbody>\n",
       "</table>\n",
       "</div>"
      ],
      "text/plain": [
       "   thal_normal  thal_reversible_defect\n",
       "0            1                       0\n",
       "1            1                       0\n",
       "2            1                       0\n",
       "3            0                       1\n",
       "4            0                       1"
      ]
     },
     "execution_count": 45,
     "metadata": {},
     "output_type": "execute_result"
    }
   ],
   "source": [
    "# Since thal is a nominal categorical data, we will perform OneHotEncoding\n",
    "\n",
    "thal = data[['thal']]\n",
    "thal = pd.get_dummies(thal, drop_first = True)\n",
    "thal.head()"
   ]
  },
  {
   "cell_type": "code",
   "execution_count": 46,
   "id": "1068d792",
   "metadata": {
    "scrolled": true
   },
   "outputs": [
    {
     "data": {
      "text/html": [
       "<div>\n",
       "<style scoped>\n",
       "    .dataframe tbody tr th:only-of-type {\n",
       "        vertical-align: middle;\n",
       "    }\n",
       "\n",
       "    .dataframe tbody tr th {\n",
       "        vertical-align: top;\n",
       "    }\n",
       "\n",
       "    .dataframe thead th {\n",
       "        text-align: right;\n",
       "    }\n",
       "</style>\n",
       "<table border=\"1\" class=\"dataframe\">\n",
       "  <thead>\n",
       "    <tr style=\"text-align: right;\">\n",
       "      <th></th>\n",
       "      <th>slope</th>\n",
       "      <th>thal</th>\n",
       "      <th>bp</th>\n",
       "      <th>cp</th>\n",
       "      <th>major_vessels</th>\n",
       "      <th>blood_sugar</th>\n",
       "      <th>rest_ecg</th>\n",
       "      <th>cholesterol</th>\n",
       "      <th>oldpeak</th>\n",
       "      <th>sex</th>\n",
       "      <th>age</th>\n",
       "      <th>heart_rate</th>\n",
       "      <th>angina</th>\n",
       "      <th>target</th>\n",
       "      <th>thal_normal</th>\n",
       "      <th>thal_reversible_defect</th>\n",
       "    </tr>\n",
       "  </thead>\n",
       "  <tbody>\n",
       "    <tr>\n",
       "      <th>0</th>\n",
       "      <td>1</td>\n",
       "      <td>normal</td>\n",
       "      <td>128</td>\n",
       "      <td>2</td>\n",
       "      <td>0</td>\n",
       "      <td>0</td>\n",
       "      <td>2</td>\n",
       "      <td>308</td>\n",
       "      <td>0.0</td>\n",
       "      <td>1</td>\n",
       "      <td>45</td>\n",
       "      <td>170</td>\n",
       "      <td>0</td>\n",
       "      <td>0</td>\n",
       "      <td>1</td>\n",
       "      <td>0</td>\n",
       "    </tr>\n",
       "    <tr>\n",
       "      <th>1</th>\n",
       "      <td>2</td>\n",
       "      <td>normal</td>\n",
       "      <td>110</td>\n",
       "      <td>3</td>\n",
       "      <td>0</td>\n",
       "      <td>0</td>\n",
       "      <td>0</td>\n",
       "      <td>214</td>\n",
       "      <td>1.6</td>\n",
       "      <td>0</td>\n",
       "      <td>54</td>\n",
       "      <td>158</td>\n",
       "      <td>0</td>\n",
       "      <td>0</td>\n",
       "      <td>1</td>\n",
       "      <td>0</td>\n",
       "    </tr>\n",
       "    <tr>\n",
       "      <th>2</th>\n",
       "      <td>1</td>\n",
       "      <td>normal</td>\n",
       "      <td>125</td>\n",
       "      <td>4</td>\n",
       "      <td>3</td>\n",
       "      <td>0</td>\n",
       "      <td>2</td>\n",
       "      <td>304</td>\n",
       "      <td>0.0</td>\n",
       "      <td>1</td>\n",
       "      <td>77</td>\n",
       "      <td>162</td>\n",
       "      <td>1</td>\n",
       "      <td>1</td>\n",
       "      <td>1</td>\n",
       "      <td>0</td>\n",
       "    </tr>\n",
       "    <tr>\n",
       "      <th>3</th>\n",
       "      <td>1</td>\n",
       "      <td>reversible_defect</td>\n",
       "      <td>152</td>\n",
       "      <td>4</td>\n",
       "      <td>0</td>\n",
       "      <td>0</td>\n",
       "      <td>0</td>\n",
       "      <td>223</td>\n",
       "      <td>0.0</td>\n",
       "      <td>1</td>\n",
       "      <td>40</td>\n",
       "      <td>181</td>\n",
       "      <td>0</td>\n",
       "      <td>1</td>\n",
       "      <td>0</td>\n",
       "      <td>1</td>\n",
       "    </tr>\n",
       "    <tr>\n",
       "      <th>4</th>\n",
       "      <td>3</td>\n",
       "      <td>reversible_defect</td>\n",
       "      <td>178</td>\n",
       "      <td>1</td>\n",
       "      <td>0</td>\n",
       "      <td>0</td>\n",
       "      <td>2</td>\n",
       "      <td>270</td>\n",
       "      <td>4.2</td>\n",
       "      <td>1</td>\n",
       "      <td>59</td>\n",
       "      <td>145</td>\n",
       "      <td>0</td>\n",
       "      <td>0</td>\n",
       "      <td>0</td>\n",
       "      <td>1</td>\n",
       "    </tr>\n",
       "  </tbody>\n",
       "</table>\n",
       "</div>"
      ],
      "text/plain": [
       "   slope               thal   bp  cp  major_vessels  blood_sugar  rest_ecg  \\\n",
       "0      1             normal  128   2              0            0         2   \n",
       "1      2             normal  110   3              0            0         0   \n",
       "2      1             normal  125   4              3            0         2   \n",
       "3      1  reversible_defect  152   4              0            0         0   \n",
       "4      3  reversible_defect  178   1              0            0         2   \n",
       "\n",
       "   cholesterol  oldpeak  sex  age  heart_rate  angina  target  thal_normal  \\\n",
       "0          308      0.0    1   45         170       0       0            1   \n",
       "1          214      1.6    0   54         158       0       0            1   \n",
       "2          304      0.0    1   77         162       1       1            1   \n",
       "3          223      0.0    1   40         181       0       1            0   \n",
       "4          270      4.2    1   59         145       0       0            0   \n",
       "\n",
       "   thal_reversible_defect  \n",
       "0                       0  \n",
       "1                       0  \n",
       "2                       0  \n",
       "3                       1  \n",
       "4                       1  "
      ]
     },
     "execution_count": 46,
     "metadata": {},
     "output_type": "execute_result"
    }
   ],
   "source": [
    "# Concatenating dataframe - data + thal\n",
    "\n",
    "data = pd.concat([data,thal], axis = 1)\n",
    "data.head()"
   ]
  },
  {
   "cell_type": "code",
   "execution_count": 47,
   "id": "084b8bd9",
   "metadata": {},
   "outputs": [
    {
     "data": {
      "text/html": [
       "<div>\n",
       "<style scoped>\n",
       "    .dataframe tbody tr th:only-of-type {\n",
       "        vertical-align: middle;\n",
       "    }\n",
       "\n",
       "    .dataframe tbody tr th {\n",
       "        vertical-align: top;\n",
       "    }\n",
       "\n",
       "    .dataframe thead th {\n",
       "        text-align: right;\n",
       "    }\n",
       "</style>\n",
       "<table border=\"1\" class=\"dataframe\">\n",
       "  <thead>\n",
       "    <tr style=\"text-align: right;\">\n",
       "      <th></th>\n",
       "      <th>slope</th>\n",
       "      <th>bp</th>\n",
       "      <th>cp</th>\n",
       "      <th>major_vessels</th>\n",
       "      <th>blood_sugar</th>\n",
       "      <th>rest_ecg</th>\n",
       "      <th>cholesterol</th>\n",
       "      <th>oldpeak</th>\n",
       "      <th>sex</th>\n",
       "      <th>age</th>\n",
       "      <th>heart_rate</th>\n",
       "      <th>angina</th>\n",
       "      <th>target</th>\n",
       "      <th>thal_normal</th>\n",
       "      <th>thal_reversible_defect</th>\n",
       "    </tr>\n",
       "  </thead>\n",
       "  <tbody>\n",
       "    <tr>\n",
       "      <th>0</th>\n",
       "      <td>1</td>\n",
       "      <td>128</td>\n",
       "      <td>2</td>\n",
       "      <td>0</td>\n",
       "      <td>0</td>\n",
       "      <td>2</td>\n",
       "      <td>308</td>\n",
       "      <td>0.0</td>\n",
       "      <td>1</td>\n",
       "      <td>45</td>\n",
       "      <td>170</td>\n",
       "      <td>0</td>\n",
       "      <td>0</td>\n",
       "      <td>1</td>\n",
       "      <td>0</td>\n",
       "    </tr>\n",
       "    <tr>\n",
       "      <th>1</th>\n",
       "      <td>2</td>\n",
       "      <td>110</td>\n",
       "      <td>3</td>\n",
       "      <td>0</td>\n",
       "      <td>0</td>\n",
       "      <td>0</td>\n",
       "      <td>214</td>\n",
       "      <td>1.6</td>\n",
       "      <td>0</td>\n",
       "      <td>54</td>\n",
       "      <td>158</td>\n",
       "      <td>0</td>\n",
       "      <td>0</td>\n",
       "      <td>1</td>\n",
       "      <td>0</td>\n",
       "    </tr>\n",
       "    <tr>\n",
       "      <th>2</th>\n",
       "      <td>1</td>\n",
       "      <td>125</td>\n",
       "      <td>4</td>\n",
       "      <td>3</td>\n",
       "      <td>0</td>\n",
       "      <td>2</td>\n",
       "      <td>304</td>\n",
       "      <td>0.0</td>\n",
       "      <td>1</td>\n",
       "      <td>77</td>\n",
       "      <td>162</td>\n",
       "      <td>1</td>\n",
       "      <td>1</td>\n",
       "      <td>1</td>\n",
       "      <td>0</td>\n",
       "    </tr>\n",
       "    <tr>\n",
       "      <th>3</th>\n",
       "      <td>1</td>\n",
       "      <td>152</td>\n",
       "      <td>4</td>\n",
       "      <td>0</td>\n",
       "      <td>0</td>\n",
       "      <td>0</td>\n",
       "      <td>223</td>\n",
       "      <td>0.0</td>\n",
       "      <td>1</td>\n",
       "      <td>40</td>\n",
       "      <td>181</td>\n",
       "      <td>0</td>\n",
       "      <td>1</td>\n",
       "      <td>0</td>\n",
       "      <td>1</td>\n",
       "    </tr>\n",
       "    <tr>\n",
       "      <th>4</th>\n",
       "      <td>3</td>\n",
       "      <td>178</td>\n",
       "      <td>1</td>\n",
       "      <td>0</td>\n",
       "      <td>0</td>\n",
       "      <td>2</td>\n",
       "      <td>270</td>\n",
       "      <td>4.2</td>\n",
       "      <td>1</td>\n",
       "      <td>59</td>\n",
       "      <td>145</td>\n",
       "      <td>0</td>\n",
       "      <td>0</td>\n",
       "      <td>0</td>\n",
       "      <td>1</td>\n",
       "    </tr>\n",
       "  </tbody>\n",
       "</table>\n",
       "</div>"
      ],
      "text/plain": [
       "   slope   bp  cp  major_vessels  blood_sugar  rest_ecg  cholesterol  oldpeak  \\\n",
       "0      1  128   2              0            0         2          308      0.0   \n",
       "1      2  110   3              0            0         0          214      1.6   \n",
       "2      1  125   4              3            0         2          304      0.0   \n",
       "3      1  152   4              0            0         0          223      0.0   \n",
       "4      3  178   1              0            0         2          270      4.2   \n",
       "\n",
       "   sex  age  heart_rate  angina  target  thal_normal  thal_reversible_defect  \n",
       "0    1   45         170       0       0            1                       0  \n",
       "1    0   54         158       0       0            1                       0  \n",
       "2    1   77         162       1       1            1                       0  \n",
       "3    1   40         181       0       1            0                       1  \n",
       "4    1   59         145       0       0            0                       1  "
      ]
     },
     "execution_count": 47,
     "metadata": {},
     "output_type": "execute_result"
    }
   ],
   "source": [
    "data.drop('thal', axis = 1, inplace = True)\n",
    "data.head()"
   ]
  },
  {
   "cell_type": "markdown",
   "id": "3ae9c933",
   "metadata": {},
   "source": [
    "# Feature Selection"
   ]
  },
  {
   "cell_type": "code",
   "execution_count": 48,
   "id": "f8f0cff7",
   "metadata": {},
   "outputs": [
    {
     "data": {
      "text/plain": [
       "Index(['slope', 'bp', 'cp', 'major_vessels', 'blood_sugar', 'rest_ecg',\n",
       "       'cholesterol', 'oldpeak', 'sex', 'age', 'heart_rate', 'angina',\n",
       "       'target', 'thal_normal', 'thal_reversible_defect'],\n",
       "      dtype='object')"
      ]
     },
     "execution_count": 48,
     "metadata": {},
     "output_type": "execute_result"
    }
   ],
   "source": [
    "data.columns"
   ]
  },
  {
   "cell_type": "code",
   "execution_count": 49,
   "id": "03909a30",
   "metadata": {},
   "outputs": [],
   "source": [
    "X = data.drop(\"target\",axis=1)\n",
    "Y = data[\"target\"]"
   ]
  },
  {
   "cell_type": "code",
   "execution_count": 50,
   "id": "a944e439",
   "metadata": {},
   "outputs": [
    {
     "data": {
      "image/png": "[encoded data removed]",
      "text/plain": [
       "<Figure size 1296x1296 with 2 Axes>"
      ]
     },
     "metadata": {
      "needs_background": "light"
     },
     "output_type": "display_data"
    }
   ],
   "source": [
    "plt.figure(figsize = (18,18))\n",
    "sns.heatmap(X.corr(), annot = True, cmap = \"RdYlGn\")\n",
    "plt.show()"
   ]
  },
  {
   "cell_type": "markdown",
   "id": "08dbf7b0",
   "metadata": {},
   "source": [
    "**There are no redundant features.**"
   ]
  },
  {
   "cell_type": "markdown",
   "id": "db54395b",
   "metadata": {},
   "source": [
    "# Model Creation"
   ]
  },
  {
   "cell_type": "markdown",
   "id": "86d8ba67",
   "metadata": {},
   "source": [
    "## Train Test Split"
   ]
  },
  {
   "cell_type": "code",
   "execution_count": 51,
   "id": "337b0419",
   "metadata": {},
   "outputs": [],
   "source": [
    "from sklearn.model_selection import train_test_split\n",
    "X_train,X_test,Y_train,Y_test = train_test_split(X,Y,test_size=0.20,random_state=45)"
   ]
  },
  {
   "cell_type": "code",
   "execution_count": 52,
   "id": "e55b6643",
   "metadata": {},
   "outputs": [
    {
     "data": {
      "text/plain": [
       "(144, 14)"
      ]
     },
     "execution_count": 52,
     "metadata": {},
     "output_type": "execute_result"
    }
   ],
   "source": [
    "X_train.shape"
   ]
  },
  {
   "cell_type": "code",
   "execution_count": 53,
   "id": "81d0a172",
   "metadata": {},
   "outputs": [
    {
     "data": {
      "text/plain": [
       "(144,)"
      ]
     },
     "execution_count": 53,
     "metadata": {},
     "output_type": "execute_result"
    }
   ],
   "source": [
    "Y_train.shape"
   ]
  },
  {
   "cell_type": "code",
   "execution_count": 54,
   "id": "bee65b40",
   "metadata": {
    "scrolled": true
   },
   "outputs": [
    {
     "data": {
      "text/plain": [
       "(36, 14)"
      ]
     },
     "execution_count": 54,
     "metadata": {},
     "output_type": "execute_result"
    }
   ],
   "source": [
    "X_test.shape"
   ]
  },
  {
   "cell_type": "code",
   "execution_count": 55,
   "id": "a4a629e7",
   "metadata": {},
   "outputs": [
    {
     "data": {
      "text/plain": [
       "(36,)"
      ]
     },
     "execution_count": 55,
     "metadata": {},
     "output_type": "execute_result"
    }
   ],
   "source": [
    "Y_test.shape"
   ]
  },
  {
   "cell_type": "markdown",
   "id": "95ecce17",
   "metadata": {},
   "source": [
    "# Model Fitting"
   ]
  },
  {
   "cell_type": "code",
   "execution_count": 56,
   "id": "a66633bf",
   "metadata": {},
   "outputs": [],
   "source": [
    "from sklearn.metrics import accuracy_score"
   ]
  },
  {
   "cell_type": "markdown",
   "id": "9fd7b9f9",
   "metadata": {},
   "source": [
    "# Logistic Regression"
   ]
  },
  {
   "cell_type": "code",
   "execution_count": 57,
   "id": "ae0a926e",
   "metadata": {},
   "outputs": [],
   "source": [
    "from sklearn.linear_model import LogisticRegression\n",
    "\n",
    "lr = LogisticRegression()\n",
    "\n",
    "lr.fit(X_train,Y_train)\n",
    "\n",
    "Y_pred_lr = lr.predict(X_test)"
   ]
  },
  {
   "cell_type": "code",
   "execution_count": 58,
   "id": "6dd6a2af",
   "metadata": {},
   "outputs": [
    {
     "data": {
      "text/plain": [
       "(36,)"
      ]
     },
     "execution_count": 58,
     "metadata": {},
     "output_type": "execute_result"
    }
   ],
   "source": [
    "Y_pred_lr.shape"
   ]
  },
  {
   "cell_type": "code",
   "execution_count": 59,
   "id": "39a6612f",
   "metadata": {},
   "outputs": [
    {
     "name": "stdout",
     "output_type": "stream",
     "text": [
      "The accuracy score achieved using Logistic Regression is: 86.11 %\n"
     ]
    }
   ],
   "source": [
    "score_lr = round(accuracy_score(Y_pred_lr,Y_test)*100,2)\n",
    "\n",
    "print(\"The accuracy score achieved using Logistic Regression is: \"+str(score_lr)+\" %\")"
   ]
  },
  {
   "cell_type": "markdown",
   "id": "459ec7ef",
   "metadata": {},
   "source": [
    "# Naive Bayes"
   ]
  },
  {
   "cell_type": "code",
   "execution_count": 60,
   "id": "18cf28d3",
   "metadata": {},
   "outputs": [],
   "source": [
    "from sklearn.naive_bayes import GaussianNB\n",
    "\n",
    "nb = GaussianNB()\n",
    "\n",
    "nb.fit(X_train,Y_train)\n",
    "\n",
    "Y_pred_nb = nb.predict(X_test)"
   ]
  },
  {
   "cell_type": "code",
   "execution_count": 61,
   "id": "a0bdd337",
   "metadata": {},
   "outputs": [
    {
     "data": {
      "text/plain": [
       "(36,)"
      ]
     },
     "execution_count": 61,
     "metadata": {},
     "output_type": "execute_result"
    }
   ],
   "source": [
    "Y_pred_nb.shape"
   ]
  },
  {
   "cell_type": "code",
   "execution_count": 62,
   "id": "ac8d603f",
   "metadata": {},
   "outputs": [
    {
     "name": "stdout",
     "output_type": "stream",
     "text": [
      "The accuracy score achieved using Naive Bayes is: 80.56 %\n"
     ]
    }
   ],
   "source": [
    "score_nb = round(accuracy_score(Y_pred_nb,Y_test)*100,2)\n",
    "\n",
    "print(\"The accuracy score achieved using Naive Bayes is: \"+str(score_nb)+\" %\")"
   ]
  },
  {
   "cell_type": "markdown",
   "id": "620c5152",
   "metadata": {},
   "source": [
    "# SVM"
   ]
  },
  {
   "cell_type": "code",
   "execution_count": 63,
   "id": "f5b8bdf1",
   "metadata": {},
   "outputs": [],
   "source": [
    "from sklearn import svm\n",
    "\n",
    "sv = svm.SVC(kernel='linear')\n",
    "\n",
    "sv.fit(X_train, Y_train)\n",
    "\n",
    "Y_pred_svm = sv.predict(X_test)\n"
   ]
  },
  {
   "cell_type": "code",
   "execution_count": 64,
   "id": "7f9f02ad",
   "metadata": {},
   "outputs": [
    {
     "data": {
      "text/plain": [
       "(36,)"
      ]
     },
     "execution_count": 64,
     "metadata": {},
     "output_type": "execute_result"
    }
   ],
   "source": [
    "Y_pred_svm.shape"
   ]
  },
  {
   "cell_type": "code",
   "execution_count": 65,
   "id": "7facfd70",
   "metadata": {},
   "outputs": [
    {
     "name": "stdout",
     "output_type": "stream",
     "text": [
      "The accuracy score achieved using Linear SVM is: 83.33 %\n"
     ]
    }
   ],
   "source": [
    "score_svm = round(accuracy_score(Y_pred_svm,Y_test)*100,2)\n",
    "\n",
    "print(\"The accuracy score achieved using Linear SVM is: \"+str(score_svm)+\" %\")"
   ]
  },
  {
   "cell_type": "markdown",
   "id": "977588c3",
   "metadata": {},
   "source": [
    "# K Nearest Neighbors"
   ]
  },
  {
   "cell_type": "code",
   "execution_count": 66,
   "id": "a60b7124",
   "metadata": {},
   "outputs": [],
   "source": [
    "from sklearn.neighbors import KNeighborsClassifier\n",
    "\n",
    "knn = KNeighborsClassifier(n_neighbors=7)\n",
    "knn.fit(X_train,Y_train)\n",
    "Y_pred_knn=knn.predict(X_test)"
   ]
  },
  {
   "cell_type": "code",
   "execution_count": 67,
   "id": "27ab8b49",
   "metadata": {},
   "outputs": [
    {
     "data": {
      "text/plain": [
       "(36,)"
      ]
     },
     "execution_count": 67,
     "metadata": {},
     "output_type": "execute_result"
    }
   ],
   "source": [
    "Y_pred_knn.shape"
   ]
  },
  {
   "cell_type": "code",
   "execution_count": 68,
   "id": "d8c9c486",
   "metadata": {},
   "outputs": [
    {
     "name": "stdout",
     "output_type": "stream",
     "text": [
      "The accuracy score achieved using KNN is: 58.33 %\n"
     ]
    }
   ],
   "source": [
    "score_knn = round(accuracy_score(Y_pred_knn,Y_test)*100,2)\n",
    "\n",
    "print(\"The accuracy score achieved using KNN is: \"+str(score_knn)+\" %\")"
   ]
  },
  {
   "cell_type": "markdown",
   "id": "739f1b80",
   "metadata": {},
   "source": [
    "# Decision Tree"
   ]
  },
  {
   "cell_type": "code",
   "execution_count": 69,
   "id": "87daaf80",
   "metadata": {},
   "outputs": [],
   "source": [
    "from sklearn.tree import DecisionTreeClassifier\n",
    "\n",
    "max_accuracy = 0\n",
    "\n",
    "\n",
    "for x in range(200):\n",
    "    dt = DecisionTreeClassifier(random_state=x)\n",
    "    dt.fit(X_train,Y_train)\n",
    "    Y_pred_dt = dt.predict(X_test)\n",
    "    current_accuracy = round(accuracy_score(Y_pred_dt,Y_test)*100,2)\n",
    "    if(current_accuracy>max_accuracy):\n",
    "        max_accuracy = current_accuracy\n",
    "        best_x = x\n",
    "        \n",
    "#print(max_accuracy)\n",
    "#print(best_x)\n",
    "\n",
    "\n",
    "dt = DecisionTreeClassifier(random_state=best_x)\n",
    "dt.fit(X_train,Y_train)\n",
    "Y_pred_dt = dt.predict(X_test)"
   ]
  },
  {
   "cell_type": "code",
   "execution_count": 70,
   "id": "b549756e",
   "metadata": {},
   "outputs": [
    {
     "name": "stdout",
     "output_type": "stream",
     "text": [
      "(36,)\n"
     ]
    }
   ],
   "source": [
    "print(Y_pred_dt.shape)"
   ]
  },
  {
   "cell_type": "code",
   "execution_count": 71,
   "id": "60a380b8",
   "metadata": {},
   "outputs": [
    {
     "name": "stdout",
     "output_type": "stream",
     "text": [
      "The accuracy score achieved using Decision Tree is: 91.67 %\n"
     ]
    }
   ],
   "source": [
    "score_dt = round(accuracy_score(Y_pred_dt,Y_test)*100,2)\n",
    "\n",
    "print(\"The accuracy score achieved using Decision Tree is: \"+str(score_dt)+\" %\")"
   ]
  },
  {
   "cell_type": "markdown",
   "id": "16670723",
   "metadata": {},
   "source": [
    "# Random Forest"
   ]
  },
  {
   "cell_type": "code",
   "execution_count": 72,
   "id": "ba8e8585",
   "metadata": {},
   "outputs": [],
   "source": [
    "from sklearn.ensemble import RandomForestClassifier\n",
    "\n",
    "max_accuracy = 0\n",
    "\n",
    "\n",
    "for x in range(200):\n",
    "    rf = RandomForestClassifier(random_state=x)\n",
    "    rf.fit(X_train,Y_train)\n",
    "    Y_pred_rf = rf.predict(X_test)\n",
    "    current_accuracy = round(accuracy_score(Y_pred_rf,Y_test)*100,2)\n",
    "    if(current_accuracy>max_accuracy):\n",
    "        max_accuracy = current_accuracy\n",
    "        best_x = x\n",
    "        \n",
    "#print(max_accuracy)\n",
    "#print(best_x)\n",
    "\n",
    "rf = RandomForestClassifier(random_state=best_x)\n",
    "rf.fit(X_train,Y_train)\n",
    "Y_pred_rf = rf.predict(X_test)"
   ]
  },
  {
   "cell_type": "code",
   "execution_count": 73,
   "id": "efe9fc64",
   "metadata": {},
   "outputs": [
    {
     "data": {
      "text/plain": [
       "(36,)"
      ]
     },
     "execution_count": 73,
     "metadata": {},
     "output_type": "execute_result"
    }
   ],
   "source": [
    "Y_pred_rf.shape"
   ]
  },
  {
   "cell_type": "code",
   "execution_count": 74,
   "id": "90b2413c",
   "metadata": {},
   "outputs": [
    {
     "name": "stdout",
     "output_type": "stream",
     "text": [
      "The accuracy score achieved using Decision Tree is: 86.11 %\n"
     ]
    }
   ],
   "source": [
    "score_rf = round(accuracy_score(Y_pred_rf,Y_test)*100,2)\n",
    "\n",
    "print(\"The accuracy score achieved using Decision Tree is: \"+str(score_rf)+\" %\")"
   ]
  },
  {
   "cell_type": "markdown",
   "id": "ea50b0a1",
   "metadata": {},
   "source": [
    "# XGBoost"
   ]
  },
  {
   "cell_type": "code",
   "execution_count": 75,
   "id": "d7d7f352",
   "metadata": {},
   "outputs": [],
   "source": [
    "import xgboost as xgb\n",
    "\n",
    "xgb_model = xgb.XGBClassifier(objective=\"binary:logistic\", random_state=42)\n",
    "xgb_model.fit(X_train, Y_train)\n",
    "\n",
    "Y_pred_xgb = xgb_model.predict(X_test)"
   ]
  },
  {
   "cell_type": "code",
   "execution_count": 76,
   "id": "31fb6cf5",
   "metadata": {},
   "outputs": [
    {
     "data": {
      "text/plain": [
       "(36,)"
      ]
     },
     "execution_count": 76,
     "metadata": {},
     "output_type": "execute_result"
    }
   ],
   "source": [
    "Y_pred_xgb.shape"
   ]
  },
  {
   "cell_type": "code",
   "execution_count": 77,
   "id": "038d6daa",
   "metadata": {},
   "outputs": [
    {
     "name": "stdout",
     "output_type": "stream",
     "text": [
      "The accuracy score achieved using XGBoost is: 83.33 %\n"
     ]
    }
   ],
   "source": [
    "score_xgb = round(accuracy_score(Y_pred_xgb,Y_test)*100,2)\n",
    "\n",
    "print(\"The accuracy score achieved using XGBoost is: \"+str(score_xgb)+\" %\")"
   ]
  },
  {
   "cell_type": "markdown",
   "id": "60548154",
   "metadata": {},
   "source": [
    "# Neural Network"
   ]
  },
  {
   "cell_type": "code",
   "execution_count": 78,
   "id": "193f9db4",
   "metadata": {},
   "outputs": [],
   "source": [
    "from keras.models import Sequential\n",
    "from keras.layers import Dense"
   ]
  },
  {
   "cell_type": "code",
   "execution_count": 79,
   "id": "6ba6fff0",
   "metadata": {},
   "outputs": [],
   "source": [
    "model = Sequential()\n",
    "model.add(Dense(11,activation='relu',input_dim=14))\n",
    "model.add(Dense(1,activation='sigmoid'))\n",
    "\n",
    "model.compile(loss='binary_crossentropy',optimizer='adam',metrics=['accuracy'])"
   ]
  },
  {
   "cell_type": "code",
   "execution_count": 80,
   "id": "63bd5a06",
   "metadata": {},
   "outputs": [
    {
     "name": "stdout",
     "output_type": "stream",
     "text": [
      "Epoch 1/300\n",
      "5/5 [==============================] - 1s 2ms/step - loss: 4.1391 - accuracy: 0.4583\n",
      "Epoch 2/300\n",
      "5/5 [==============================] - 0s 1ms/step - loss: 2.6391 - accuracy: 0.3333\n",
      "Epoch 3/300\n",
      "5/5 [==============================] - 0s 2ms/step - loss: 2.7576 - accuracy: 0.3958\n",
      "Epoch 4/300\n",
      "5/5 [==============================] - 0s 2ms/step - loss: 2.7354 - accuracy: 0.3681\n",
      "Epoch 5/300\n",
      "5/5 [==============================] - 0s 2ms/step - loss: 2.4290 - accuracy: 0.3472\n",
      "Epoch 6/300\n",
      "5/5 [==============================] - 0s 2ms/step - loss: 2.3547 - accuracy: 0.3472\n",
      "Epoch 7/300\n",
      "5/5 [==============================] - 0s 2ms/step - loss: 2.3318 - accuracy: 0.3333\n",
      "Epoch 8/300\n",
      "5/5 [==============================] - 0s 2ms/step - loss: 2.2344 - accuracy: 0.3542\n",
      "Epoch 9/300\n",
      "5/5 [==============================] - 0s 2ms/step - loss: 2.1924 - accuracy: 0.3542\n",
      "Epoch 10/300\n",
      "5/5 [==============================] - 0s 2ms/step - loss: 2.1654 - accuracy: 0.3403\n",
      "Epoch 11/300\n",
      "5/5 [==============================] - 0s 2ms/step - loss: 2.0780 - accuracy: 0.3542\n",
      "Epoch 12/300\n",
      "5/5 [==============================] - 0s 2ms/step - loss: 2.0482 - accuracy: 0.3472\n",
      "Epoch 13/300\n",
      "5/5 [==============================] - 0s 2ms/step - loss: 1.9694 - accuracy: 0.3403\n",
      "Epoch 14/300\n",
      "5/5 [==============================] - 0s 2ms/step - loss: 1.9202 - accuracy: 0.3681\n",
      "Epoch 15/300\n",
      "5/5 [==============================] - 0s 2ms/step - loss: 1.8746 - accuracy: 0.3472\n",
      "Epoch 16/300\n",
      "5/5 [==============================] - 0s 2ms/step - loss: 1.8097 - accuracy: 0.3611\n",
      "Epoch 17/300\n",
      "5/5 [==============================] - 0s 2ms/step - loss: 1.7510 - accuracy: 0.3403\n",
      "Epoch 18/300\n",
      "5/5 [==============================] - 0s 8ms/step - loss: 1.7105 - accuracy: 0.3542\n",
      "Epoch 19/300\n",
      "5/5 [==============================] - 0s 3ms/step - loss: 1.6320 - accuracy: 0.3681\n",
      "Epoch 20/300\n",
      "5/5 [==============================] - 0s 3ms/step - loss: 1.5921 - accuracy: 0.3403\n",
      "Epoch 21/300\n",
      "5/5 [==============================] - 0s 3ms/step - loss: 1.5383 - accuracy: 0.3611\n",
      "Epoch 22/300\n",
      "5/5 [==============================] - 0s 3ms/step - loss: 1.4942 - accuracy: 0.3681\n",
      "Epoch 23/300\n",
      "5/5 [==============================] - 0s 3ms/step - loss: 1.4314 - accuracy: 0.3889\n",
      "Epoch 24/300\n",
      "5/5 [==============================] - 0s 2ms/step - loss: 1.3830 - accuracy: 0.3958\n",
      "Epoch 25/300\n",
      "5/5 [==============================] - 0s 2ms/step - loss: 1.3570 - accuracy: 0.4028\n",
      "Epoch 26/300\n",
      "5/5 [==============================] - 0s 2ms/step - loss: 1.2894 - accuracy: 0.3889\n",
      "Epoch 27/300\n",
      "5/5 [==============================] - 0s 2ms/step - loss: 1.2612 - accuracy: 0.4167\n",
      "Epoch 28/300\n",
      "5/5 [==============================] - 0s 2ms/step - loss: 1.2057 - accuracy: 0.4097\n",
      "Epoch 29/300\n",
      "5/5 [==============================] - 0s 2ms/step - loss: 1.1723 - accuracy: 0.4097\n",
      "Epoch 30/300\n",
      "5/5 [==============================] - 0s 2ms/step - loss: 1.1367 - accuracy: 0.4167\n",
      "Epoch 31/300\n",
      "5/5 [==============================] - 0s 2ms/step - loss: 1.0900 - accuracy: 0.4306\n",
      "Epoch 32/300\n",
      "5/5 [==============================] - 0s 2ms/step - loss: 1.0585 - accuracy: 0.4514\n",
      "Epoch 33/300\n",
      "5/5 [==============================] - 0s 2ms/step - loss: 1.0179 - accuracy: 0.4306\n",
      "Epoch 34/300\n",
      "5/5 [==============================] - 0s 2ms/step - loss: 0.9849 - accuracy: 0.4375\n",
      "Epoch 35/300\n",
      "5/5 [==============================] - 0s 2ms/step - loss: 0.9711 - accuracy: 0.4444\n",
      "Epoch 36/300\n",
      "5/5 [==============================] - 0s 2ms/step - loss: 0.9148 - accuracy: 0.4653\n",
      "Epoch 37/300\n",
      "5/5 [==============================] - 0s 3ms/step - loss: 0.9140 - accuracy: 0.4792\n",
      "Epoch 38/300\n",
      "5/5 [==============================] - 0s 2ms/step - loss: 0.8858 - accuracy: 0.5069\n",
      "Epoch 39/300\n",
      "5/5 [==============================] - 0s 2ms/step - loss: 0.8469 - accuracy: 0.5000\n",
      "Epoch 40/300\n",
      "5/5 [==============================] - 0s 2ms/step - loss: 0.8159 - accuracy: 0.5139\n",
      "Epoch 41/300\n",
      "5/5 [==============================] - 0s 2ms/step - loss: 0.7898 - accuracy: 0.5278\n",
      "Epoch 42/300\n",
      "5/5 [==============================] - 0s 2ms/step - loss: 0.7697 - accuracy: 0.5694\n",
      "Epoch 43/300\n",
      "5/5 [==============================] - 0s 3ms/step - loss: 0.7424 - accuracy: 0.5556\n",
      "Epoch 44/300\n",
      "5/5 [==============================] - 0s 3ms/step - loss: 0.7212 - accuracy: 0.5625\n",
      "Epoch 45/300\n",
      "5/5 [==============================] - 0s 2ms/step - loss: 0.7077 - accuracy: 0.6042\n",
      "Epoch 46/300\n",
      "5/5 [==============================] - 0s 2ms/step - loss: 0.6852 - accuracy: 0.6111\n",
      "Epoch 47/300\n",
      "5/5 [==============================] - 0s 2ms/step - loss: 0.6895 - accuracy: 0.5903\n",
      "Epoch 48/300\n",
      "5/5 [==============================] - 0s 2ms/step - loss: 0.6637 - accuracy: 0.6528\n",
      "Epoch 49/300\n",
      "5/5 [==============================] - 0s 3ms/step - loss: 0.6598 - accuracy: 0.6389\n",
      "Epoch 50/300\n",
      "5/5 [==============================] - 0s 3ms/step - loss: 0.6360 - accuracy: 0.6667\n",
      "Epoch 51/300\n",
      "5/5 [==============================] - 0s 3ms/step - loss: 0.6303 - accuracy: 0.6944\n",
      "Epoch 52/300\n",
      "5/5 [==============================] - 0s 3ms/step - loss: 0.6234 - accuracy: 0.6597\n",
      "Epoch 53/300\n",
      "5/5 [==============================] - 0s 3ms/step - loss: 0.6139 - accuracy: 0.6667\n",
      "Epoch 54/300\n",
      "5/5 [==============================] - 0s 3ms/step - loss: 0.6015 - accuracy: 0.7014\n",
      "Epoch 55/300\n",
      "5/5 [==============================] - 0s 3ms/step - loss: 0.5815 - accuracy: 0.6944\n",
      "Epoch 56/300\n",
      "5/5 [==============================] - 0s 2ms/step - loss: 0.5905 - accuracy: 0.7083\n",
      "Epoch 57/300\n",
      "5/5 [==============================] - 0s 2ms/step - loss: 0.5722 - accuracy: 0.7361\n",
      "Epoch 58/300\n",
      "5/5 [==============================] - 0s 2ms/step - loss: 0.5612 - accuracy: 0.7431\n",
      "Epoch 59/300\n",
      "5/5 [==============================] - 0s 3ms/step - loss: 0.5582 - accuracy: 0.7500\n",
      "Epoch 60/300\n",
      "5/5 [==============================] - 0s 2ms/step - loss: 0.5515 - accuracy: 0.7500\n",
      "Epoch 61/300\n",
      "5/5 [==============================] - 0s 3ms/step - loss: 0.5493 - accuracy: 0.7639\n",
      "Epoch 62/300\n",
      "5/5 [==============================] - 0s 2ms/step - loss: 0.5397 - accuracy: 0.7569\n",
      "Epoch 63/300\n",
      "5/5 [==============================] - 0s 2ms/step - loss: 0.5348 - accuracy: 0.7639\n",
      "Epoch 64/300\n",
      "5/5 [==============================] - 0s 2ms/step - loss: 0.5368 - accuracy: 0.7778\n",
      "Epoch 65/300\n",
      "5/5 [==============================] - 0s 2ms/step - loss: 0.5321 - accuracy: 0.7500\n",
      "Epoch 66/300\n",
      "5/5 [==============================] - 0s 2ms/step - loss: 0.5244 - accuracy: 0.7708\n",
      "Epoch 67/300\n",
      "5/5 [==============================] - 0s 2ms/step - loss: 0.5245 - accuracy: 0.7847\n",
      "Epoch 68/300\n",
      "5/5 [==============================] - 0s 2ms/step - loss: 0.5156 - accuracy: 0.7917\n",
      "Epoch 69/300\n",
      "5/5 [==============================] - 0s 2ms/step - loss: 0.5093 - accuracy: 0.7847\n",
      "Epoch 70/300\n",
      "5/5 [==============================] - 0s 2ms/step - loss: 0.5093 - accuracy: 0.7917\n",
      "Epoch 71/300\n",
      "5/5 [==============================] - 0s 2ms/step - loss: 0.5171 - accuracy: 0.7847\n",
      "Epoch 72/300\n",
      "5/5 [==============================] - 0s 2ms/step - loss: 0.5049 - accuracy: 0.7917\n",
      "Epoch 73/300\n",
      "5/5 [==============================] - 0s 2ms/step - loss: 0.5066 - accuracy: 0.7986\n",
      "Epoch 74/300\n",
      "5/5 [==============================] - 0s 2ms/step - loss: 0.4970 - accuracy: 0.7847\n",
      "Epoch 75/300\n",
      "5/5 [==============================] - 0s 2ms/step - loss: 0.4961 - accuracy: 0.7986\n",
      "Epoch 76/300\n",
      "5/5 [==============================] - 0s 2ms/step - loss: 0.4949 - accuracy: 0.8056\n",
      "Epoch 77/300\n",
      "5/5 [==============================] - 0s 2ms/step - loss: 0.4958 - accuracy: 0.7917\n",
      "Epoch 78/300\n",
      "5/5 [==============================] - 0s 2ms/step - loss: 0.4914 - accuracy: 0.7986\n",
      "Epoch 79/300\n",
      "5/5 [==============================] - 0s 2ms/step - loss: 0.4900 - accuracy: 0.7917\n",
      "Epoch 80/300\n",
      "5/5 [==============================] - 0s 2ms/step - loss: 0.4859 - accuracy: 0.7778\n",
      "Epoch 81/300\n",
      "5/5 [==============================] - 0s 2ms/step - loss: 0.4900 - accuracy: 0.7778\n",
      "Epoch 82/300\n",
      "5/5 [==============================] - 0s 1ms/step - loss: 0.4818 - accuracy: 0.7986\n",
      "Epoch 83/300\n",
      "5/5 [==============================] - 0s 1ms/step - loss: 0.4866 - accuracy: 0.7708\n",
      "Epoch 84/300\n",
      "5/5 [==============================] - 0s 2ms/step - loss: 0.4773 - accuracy: 0.8125\n",
      "Epoch 85/300\n",
      "5/5 [==============================] - 0s 2ms/step - loss: 0.4834 - accuracy: 0.7847\n",
      "Epoch 86/300\n",
      "5/5 [==============================] - 0s 2ms/step - loss: 0.4762 - accuracy: 0.7708\n",
      "Epoch 87/300\n",
      "5/5 [==============================] - 0s 2ms/step - loss: 0.4804 - accuracy: 0.7847\n",
      "Epoch 88/300\n",
      "5/5 [==============================] - 0s 2ms/step - loss: 0.4766 - accuracy: 0.7847\n",
      "Epoch 89/300\n",
      "5/5 [==============================] - 0s 3ms/step - loss: 0.4787 - accuracy: 0.8056\n",
      "Epoch 90/300\n",
      "5/5 [==============================] - 0s 2ms/step - loss: 0.4733 - accuracy: 0.8056\n",
      "Epoch 91/300\n",
      "5/5 [==============================] - 0s 2ms/step - loss: 0.4774 - accuracy: 0.7639\n",
      "Epoch 92/300\n",
      "5/5 [==============================] - 0s 3ms/step - loss: 0.4693 - accuracy: 0.7986\n",
      "Epoch 93/300\n",
      "5/5 [==============================] - 0s 2ms/step - loss: 0.4701 - accuracy: 0.8125\n",
      "Epoch 94/300\n",
      "5/5 [==============================] - 0s 5ms/step - loss: 0.4659 - accuracy: 0.7986\n",
      "Epoch 95/300\n",
      "5/5 [==============================] - 0s 3ms/step - loss: 0.4660 - accuracy: 0.8125\n",
      "Epoch 96/300\n",
      "5/5 [==============================] - 0s 3ms/step - loss: 0.4653 - accuracy: 0.7917\n",
      "Epoch 97/300\n",
      "5/5 [==============================] - 0s 3ms/step - loss: 0.4646 - accuracy: 0.8056\n",
      "Epoch 98/300\n",
      "5/5 [==============================] - 0s 2ms/step - loss: 0.4637 - accuracy: 0.8125\n",
      "Epoch 99/300\n",
      "5/5 [==============================] - 0s 2ms/step - loss: 0.4605 - accuracy: 0.7917\n",
      "Epoch 100/300\n",
      "5/5 [==============================] - 0s 3ms/step - loss: 0.4599 - accuracy: 0.7847\n",
      "Epoch 101/300\n",
      "5/5 [==============================] - 0s 2ms/step - loss: 0.4616 - accuracy: 0.8264\n",
      "Epoch 102/300\n",
      "5/5 [==============================] - 0s 2ms/step - loss: 0.4600 - accuracy: 0.7917\n",
      "Epoch 103/300\n",
      "5/5 [==============================] - 0s 2ms/step - loss: 0.4676 - accuracy: 0.8264\n",
      "Epoch 104/300\n",
      "5/5 [==============================] - 0s 3ms/step - loss: 0.4559 - accuracy: 0.7917\n",
      "Epoch 105/300\n",
      "5/5 [==============================] - 0s 2ms/step - loss: 0.4564 - accuracy: 0.8056\n",
      "Epoch 106/300\n",
      "5/5 [==============================] - 0s 2ms/step - loss: 0.4587 - accuracy: 0.8125\n",
      "Epoch 107/300\n",
      "5/5 [==============================] - 0s 2ms/step - loss: 0.4557 - accuracy: 0.7847\n",
      "Epoch 108/300\n",
      "5/5 [==============================] - 0s 2ms/step - loss: 0.4593 - accuracy: 0.7917\n",
      "Epoch 109/300\n",
      "5/5 [==============================] - 0s 2ms/step - loss: 0.4517 - accuracy: 0.7986\n",
      "Epoch 110/300\n",
      "5/5 [==============================] - 0s 1ms/step - loss: 0.4545 - accuracy: 0.7917\n",
      "Epoch 111/300\n",
      "5/5 [==============================] - 0s 1ms/step - loss: 0.4582 - accuracy: 0.8056\n",
      "Epoch 112/300\n",
      "5/5 [==============================] - 0s 1ms/step - loss: 0.4528 - accuracy: 0.8264\n",
      "Epoch 113/300\n",
      "5/5 [==============================] - 0s 2ms/step - loss: 0.4573 - accuracy: 0.8056\n",
      "Epoch 114/300\n",
      "5/5 [==============================] - 0s 2ms/step - loss: 0.4527 - accuracy: 0.7917\n",
      "Epoch 115/300\n",
      "5/5 [==============================] - 0s 2ms/step - loss: 0.4481 - accuracy: 0.8264\n",
      "Epoch 116/300\n",
      "5/5 [==============================] - 0s 2ms/step - loss: 0.4485 - accuracy: 0.8194\n",
      "Epoch 117/300\n",
      "5/5 [==============================] - 0s 1ms/step - loss: 0.4709 - accuracy: 0.7708\n",
      "Epoch 118/300\n",
      "5/5 [==============================] - 0s 2ms/step - loss: 0.4673 - accuracy: 0.7986\n",
      "Epoch 119/300\n",
      "5/5 [==============================] - 0s 2ms/step - loss: 0.4535 - accuracy: 0.7917\n",
      "Epoch 120/300\n",
      "5/5 [==============================] - 0s 1ms/step - loss: 0.4581 - accuracy: 0.7917\n",
      "Epoch 121/300\n",
      "5/5 [==============================] - 0s 1ms/step - loss: 0.4463 - accuracy: 0.8194\n",
      "Epoch 122/300\n",
      "5/5 [==============================] - 0s 1ms/step - loss: 0.4420 - accuracy: 0.7986\n",
      "Epoch 123/300\n",
      "5/5 [==============================] - 0s 2ms/step - loss: 0.4493 - accuracy: 0.7778\n",
      "Epoch 124/300\n",
      "5/5 [==============================] - 0s 1ms/step - loss: 0.4487 - accuracy: 0.8194\n",
      "Epoch 125/300\n",
      "5/5 [==============================] - 0s 2ms/step - loss: 0.4429 - accuracy: 0.7986\n",
      "Epoch 126/300\n",
      "5/5 [==============================] - 0s 1ms/step - loss: 0.4405 - accuracy: 0.8125\n",
      "Epoch 127/300\n",
      "5/5 [==============================] - 0s 1ms/step - loss: 0.4466 - accuracy: 0.8333\n",
      "Epoch 128/300\n",
      "5/5 [==============================] - 0s 2ms/step - loss: 0.4432 - accuracy: 0.7778\n",
      "Epoch 129/300\n",
      "5/5 [==============================] - 0s 2ms/step - loss: 0.4583 - accuracy: 0.8056\n",
      "Epoch 130/300\n",
      "5/5 [==============================] - 0s 2ms/step - loss: 0.4446 - accuracy: 0.8264\n",
      "Epoch 131/300\n",
      "5/5 [==============================] - 0s 2ms/step - loss: 0.4419 - accuracy: 0.8333\n",
      "Epoch 132/300\n",
      "5/5 [==============================] - 0s 2ms/step - loss: 0.4379 - accuracy: 0.8125\n",
      "Epoch 133/300\n",
      "5/5 [==============================] - 0s 3ms/step - loss: 0.4395 - accuracy: 0.7917\n",
      "Epoch 134/300\n",
      "5/5 [==============================] - 0s 3ms/step - loss: 0.4538 - accuracy: 0.8264\n",
      "Epoch 135/300\n",
      "5/5 [==============================] - 0s 3ms/step - loss: 0.4407 - accuracy: 0.7986\n",
      "Epoch 136/300\n",
      "5/5 [==============================] - 0s 3ms/step - loss: 0.4417 - accuracy: 0.8125\n",
      "Epoch 137/300\n",
      "5/5 [==============================] - 0s 3ms/step - loss: 0.4357 - accuracy: 0.8333\n",
      "Epoch 138/300\n",
      "5/5 [==============================] - 0s 3ms/step - loss: 0.4448 - accuracy: 0.7569\n",
      "Epoch 139/300\n",
      "5/5 [==============================] - 0s 3ms/step - loss: 0.4339 - accuracy: 0.7917\n",
      "Epoch 140/300\n",
      "5/5 [==============================] - 0s 3ms/step - loss: 0.4352 - accuracy: 0.8403\n",
      "Epoch 141/300\n",
      "5/5 [==============================] - 0s 2ms/step - loss: 0.4305 - accuracy: 0.8403\n",
      "Epoch 142/300\n",
      "5/5 [==============================] - 0s 4ms/step - loss: 0.4372 - accuracy: 0.7917\n",
      "Epoch 143/300\n",
      "5/5 [==============================] - 0s 2ms/step - loss: 0.4463 - accuracy: 0.8333\n",
      "Epoch 144/300\n",
      "5/5 [==============================] - 0s 2ms/step - loss: 0.4732 - accuracy: 0.7708\n",
      "Epoch 145/300\n",
      "5/5 [==============================] - 0s 4ms/step - loss: 0.4360 - accuracy: 0.8125\n",
      "Epoch 146/300\n",
      "5/5 [==============================] - 0s 2ms/step - loss: 0.4415 - accuracy: 0.8056\n",
      "Epoch 147/300\n",
      "5/5 [==============================] - 0s 2ms/step - loss: 0.4458 - accuracy: 0.8056\n",
      "Epoch 148/300\n",
      "5/5 [==============================] - 0s 2ms/step - loss: 0.4373 - accuracy: 0.7986\n",
      "Epoch 149/300\n",
      "5/5 [==============================] - 0s 2ms/step - loss: 0.4369 - accuracy: 0.8264\n",
      "Epoch 150/300\n",
      "5/5 [==============================] - 0s 2ms/step - loss: 0.4411 - accuracy: 0.7847\n",
      "Epoch 151/300\n",
      "5/5 [==============================] - 0s 1ms/step - loss: 0.4267 - accuracy: 0.8194\n",
      "Epoch 152/300\n",
      "5/5 [==============================] - 0s 1ms/step - loss: 0.4434 - accuracy: 0.8125\n",
      "Epoch 153/300\n",
      "5/5 [==============================] - 0s 1ms/step - loss: 0.4388 - accuracy: 0.7847\n",
      "Epoch 154/300\n",
      "5/5 [==============================] - 0s 1ms/step - loss: 0.4322 - accuracy: 0.8194\n",
      "Epoch 155/300\n",
      "5/5 [==============================] - 0s 2ms/step - loss: 0.4243 - accuracy: 0.8194\n",
      "Epoch 156/300\n",
      "5/5 [==============================] - 0s 1ms/step - loss: 0.4350 - accuracy: 0.7986\n",
      "Epoch 157/300\n",
      "5/5 [==============================] - 0s 1ms/step - loss: 0.4520 - accuracy: 0.7778\n",
      "Epoch 158/300\n",
      "5/5 [==============================] - 0s 1ms/step - loss: 0.4217 - accuracy: 0.7917\n",
      "Epoch 159/300\n",
      "5/5 [==============================] - 0s 1ms/step - loss: 0.4322 - accuracy: 0.8264\n",
      "Epoch 160/300\n",
      "5/5 [==============================] - 0s 1ms/step - loss: 0.4209 - accuracy: 0.8194\n",
      "Epoch 161/300\n",
      "5/5 [==============================] - 0s 1ms/step - loss: 0.4192 - accuracy: 0.8194\n",
      "Epoch 162/300\n",
      "5/5 [==============================] - 0s 1ms/step - loss: 0.4189 - accuracy: 0.8333\n",
      "Epoch 163/300\n",
      "5/5 [==============================] - 0s 1ms/step - loss: 0.4397 - accuracy: 0.7708\n",
      "Epoch 164/300\n",
      "5/5 [==============================] - 0s 2ms/step - loss: 0.4267 - accuracy: 0.8194\n",
      "Epoch 165/300\n",
      "5/5 [==============================] - 0s 1ms/step - loss: 0.4167 - accuracy: 0.8333\n",
      "Epoch 166/300\n",
      "5/5 [==============================] - 0s 1ms/step - loss: 0.4321 - accuracy: 0.7778\n",
      "Epoch 167/300\n"
     ]
    },
    {
     "name": "stdout",
     "output_type": "stream",
     "text": [
      "5/5 [==============================] - 0s 2ms/step - loss: 0.4115 - accuracy: 0.8403\n",
      "Epoch 168/300\n",
      "5/5 [==============================] - 0s 2ms/step - loss: 0.4241 - accuracy: 0.8056\n",
      "Epoch 169/300\n",
      "5/5 [==============================] - 0s 1ms/step - loss: 0.4321 - accuracy: 0.8125\n",
      "Epoch 170/300\n",
      "5/5 [==============================] - 0s 2ms/step - loss: 0.4122 - accuracy: 0.8125\n",
      "Epoch 171/300\n",
      "5/5 [==============================] - 0s 1ms/step - loss: 0.4330 - accuracy: 0.8125\n",
      "Epoch 172/300\n",
      "5/5 [==============================] - 0s 2ms/step - loss: 0.4134 - accuracy: 0.8125\n",
      "Epoch 173/300\n",
      "5/5 [==============================] - 0s 2ms/step - loss: 0.4133 - accuracy: 0.8403\n",
      "Epoch 174/300\n",
      "5/5 [==============================] - 0s 2ms/step - loss: 0.4079 - accuracy: 0.8472\n",
      "Epoch 175/300\n",
      "5/5 [==============================] - 0s 2ms/step - loss: 0.4164 - accuracy: 0.8194\n",
      "Epoch 176/300\n",
      "5/5 [==============================] - 0s 4ms/step - loss: 0.4201 - accuracy: 0.8264\n",
      "Epoch 177/300\n",
      "5/5 [==============================] - 0s 2ms/step - loss: 0.4101 - accuracy: 0.8333\n",
      "Epoch 178/300\n",
      "5/5 [==============================] - 0s 2ms/step - loss: 0.4079 - accuracy: 0.8403\n",
      "Epoch 179/300\n",
      "5/5 [==============================] - 0s 5ms/step - loss: 0.4106 - accuracy: 0.8403\n",
      "Epoch 180/300\n",
      "5/5 [==============================] - 0s 3ms/step - loss: 0.4062 - accuracy: 0.8403\n",
      "Epoch 181/300\n",
      "5/5 [==============================] - 0s 3ms/step - loss: 0.4060 - accuracy: 0.8403\n",
      "Epoch 182/300\n",
      "5/5 [==============================] - 0s 3ms/step - loss: 0.4051 - accuracy: 0.8542\n",
      "Epoch 183/300\n",
      "5/5 [==============================] - 0s 3ms/step - loss: 0.4072 - accuracy: 0.8333\n",
      "Epoch 184/300\n",
      "5/5 [==============================] - 0s 3ms/step - loss: 0.4030 - accuracy: 0.8542\n",
      "Epoch 185/300\n",
      "5/5 [==============================] - 0s 2ms/step - loss: 0.4057 - accuracy: 0.8403\n",
      "Epoch 186/300\n",
      "5/5 [==============================] - 0s 2ms/step - loss: 0.4070 - accuracy: 0.8542\n",
      "Epoch 187/300\n",
      "5/5 [==============================] - 0s 3ms/step - loss: 0.4023 - accuracy: 0.8472\n",
      "Epoch 188/300\n",
      "5/5 [==============================] - 0s 2ms/step - loss: 0.4036 - accuracy: 0.8403\n",
      "Epoch 189/300\n",
      "5/5 [==============================] - 0s 2ms/step - loss: 0.4028 - accuracy: 0.8403\n",
      "Epoch 190/300\n",
      "5/5 [==============================] - 0s 2ms/step - loss: 0.4000 - accuracy: 0.8403\n",
      "Epoch 191/300\n",
      "5/5 [==============================] - 0s 2ms/step - loss: 0.4024 - accuracy: 0.8403\n",
      "Epoch 192/300\n",
      "5/5 [==============================] - 0s 2ms/step - loss: 0.3980 - accuracy: 0.8472\n",
      "Epoch 193/300\n",
      "5/5 [==============================] - 0s 2ms/step - loss: 0.3997 - accuracy: 0.8542\n",
      "Epoch 194/300\n",
      "5/5 [==============================] - 0s 2ms/step - loss: 0.4017 - accuracy: 0.8333\n",
      "Epoch 195/300\n",
      "5/5 [==============================] - 0s 2ms/step - loss: 0.4045 - accuracy: 0.8333\n",
      "Epoch 196/300\n",
      "5/5 [==============================] - 0s 1ms/step - loss: 0.4021 - accuracy: 0.8333\n",
      "Epoch 197/300\n",
      "5/5 [==============================] - 0s 1ms/step - loss: 0.4068 - accuracy: 0.8403\n",
      "Epoch 198/300\n",
      "5/5 [==============================] - 0s 1ms/step - loss: 0.4031 - accuracy: 0.8472\n",
      "Epoch 199/300\n",
      "5/5 [==============================] - 0s 1ms/step - loss: 0.4054 - accuracy: 0.8472\n",
      "Epoch 200/300\n",
      "5/5 [==============================] - 0s 2ms/step - loss: 0.3940 - accuracy: 0.8472\n",
      "Epoch 201/300\n",
      "5/5 [==============================] - 0s 1ms/step - loss: 0.3982 - accuracy: 0.8333\n",
      "Epoch 202/300\n",
      "5/5 [==============================] - 0s 1ms/step - loss: 0.3961 - accuracy: 0.8472\n",
      "Epoch 203/300\n",
      "5/5 [==============================] - 0s 1ms/step - loss: 0.3975 - accuracy: 0.8472\n",
      "Epoch 204/300\n",
      "5/5 [==============================] - 0s 1ms/step - loss: 0.4055 - accuracy: 0.8264\n",
      "Epoch 205/300\n",
      "5/5 [==============================] - 0s 1ms/step - loss: 0.3940 - accuracy: 0.8403\n",
      "Epoch 206/300\n",
      "5/5 [==============================] - 0s 1ms/step - loss: 0.3938 - accuracy: 0.8542\n",
      "Epoch 207/300\n",
      "5/5 [==============================] - 0s 1ms/step - loss: 0.3935 - accuracy: 0.8472\n",
      "Epoch 208/300\n",
      "5/5 [==============================] - 0s 1ms/step - loss: 0.3899 - accuracy: 0.8542\n",
      "Epoch 209/300\n",
      "5/5 [==============================] - 0s 1ms/step - loss: 0.3957 - accuracy: 0.8472\n",
      "Epoch 210/300\n",
      "5/5 [==============================] - 0s 1ms/step - loss: 0.3919 - accuracy: 0.8542\n",
      "Epoch 211/300\n",
      "5/5 [==============================] - 0s 1ms/step - loss: 0.3953 - accuracy: 0.8403\n",
      "Epoch 212/300\n",
      "5/5 [==============================] - 0s 1ms/step - loss: 0.3932 - accuracy: 0.8403\n",
      "Epoch 213/300\n",
      "5/5 [==============================] - 0s 2ms/step - loss: 0.3993 - accuracy: 0.8472\n",
      "Epoch 214/300\n",
      "5/5 [==============================] - 0s 2ms/step - loss: 0.3907 - accuracy: 0.8542\n",
      "Epoch 215/300\n",
      "5/5 [==============================] - 0s 1ms/step - loss: 0.4024 - accuracy: 0.8472\n",
      "Epoch 216/300\n",
      "5/5 [==============================] - 0s 2ms/step - loss: 0.3917 - accuracy: 0.8542\n",
      "Epoch 217/300\n",
      "5/5 [==============================] - 0s 1ms/step - loss: 0.3918 - accuracy: 0.8472\n",
      "Epoch 218/300\n",
      "5/5 [==============================] - 0s 2ms/step - loss: 0.3905 - accuracy: 0.8542\n",
      "Epoch 219/300\n",
      "5/5 [==============================] - 0s 2ms/step - loss: 0.3922 - accuracy: 0.8542\n",
      "Epoch 220/300\n",
      "5/5 [==============================] - 0s 2ms/step - loss: 0.3987 - accuracy: 0.8403\n",
      "Epoch 221/300\n",
      "5/5 [==============================] - 0s 2ms/step - loss: 0.3900 - accuracy: 0.8542\n",
      "Epoch 222/300\n",
      "5/5 [==============================] - 0s 2ms/step - loss: 0.3940 - accuracy: 0.8611\n",
      "Epoch 223/300\n",
      "5/5 [==============================] - 0s 2ms/step - loss: 0.3893 - accuracy: 0.8611\n",
      "Epoch 224/300\n",
      "5/5 [==============================] - 0s 4ms/step - loss: 0.3842 - accuracy: 0.8403\n",
      "Epoch 225/300\n",
      "5/5 [==============================] - 0s 2ms/step - loss: 0.3980 - accuracy: 0.8125\n",
      "Epoch 226/300\n",
      "5/5 [==============================] - 0s 3ms/step - loss: 0.3973 - accuracy: 0.8403\n",
      "Epoch 227/300\n",
      "5/5 [==============================] - 0s 8ms/step - loss: 0.3848 - accuracy: 0.8472\n",
      "Epoch 228/300\n",
      "5/5 [==============================] - 0s 2ms/step - loss: 0.3921 - accuracy: 0.8194\n",
      "Epoch 229/300\n",
      "5/5 [==============================] - 0s 2ms/step - loss: 0.3954 - accuracy: 0.8403\n",
      "Epoch 230/300\n",
      "5/5 [==============================] - 0s 3ms/step - loss: 0.3816 - accuracy: 0.8611\n",
      "Epoch 231/300\n",
      "5/5 [==============================] - 0s 2ms/step - loss: 0.4031 - accuracy: 0.8264\n",
      "Epoch 232/300\n",
      "5/5 [==============================] - 0s 2ms/step - loss: 0.4152 - accuracy: 0.8264\n",
      "Epoch 233/300\n",
      "5/5 [==============================] - 0s 2ms/step - loss: 0.3866 - accuracy: 0.8333\n",
      "Epoch 234/300\n",
      "5/5 [==============================] - 0s 2ms/step - loss: 0.4064 - accuracy: 0.8125\n",
      "Epoch 235/300\n",
      "5/5 [==============================] - 0s 2ms/step - loss: 0.3830 - accuracy: 0.8542\n",
      "Epoch 236/300\n",
      "5/5 [==============================] - 0s 2ms/step - loss: 0.3843 - accuracy: 0.8542\n",
      "Epoch 237/300\n",
      "5/5 [==============================] - 0s 2ms/step - loss: 0.3856 - accuracy: 0.8542\n",
      "Epoch 238/300\n",
      "5/5 [==============================] - 0s 2ms/step - loss: 0.3827 - accuracy: 0.8611\n",
      "Epoch 239/300\n",
      "5/5 [==============================] - 0s 1ms/step - loss: 0.3832 - accuracy: 0.8472\n",
      "Epoch 240/300\n",
      "5/5 [==============================] - 0s 2ms/step - loss: 0.3807 - accuracy: 0.8542\n",
      "Epoch 241/300\n",
      "5/5 [==============================] - 0s 1ms/step - loss: 0.3916 - accuracy: 0.8403\n",
      "Epoch 242/300\n",
      "5/5 [==============================] - 0s 2ms/step - loss: 0.3788 - accuracy: 0.8611\n",
      "Epoch 243/300\n",
      "5/5 [==============================] - 0s 1ms/step - loss: 0.3882 - accuracy: 0.8472\n",
      "Epoch 244/300\n",
      "5/5 [==============================] - 0s 1ms/step - loss: 0.4011 - accuracy: 0.8472\n",
      "Epoch 245/300\n",
      "5/5 [==============================] - 0s 1ms/step - loss: 0.3777 - accuracy: 0.8403\n",
      "Epoch 246/300\n",
      "5/5 [==============================] - 0s 3ms/step - loss: 0.3885 - accuracy: 0.8264\n",
      "Epoch 247/300\n",
      "5/5 [==============================] - 0s 2ms/step - loss: 0.4280 - accuracy: 0.8125\n",
      "Epoch 248/300\n",
      "5/5 [==============================] - 0s 2ms/step - loss: 0.4202 - accuracy: 0.8194\n",
      "Epoch 249/300\n",
      "5/5 [==============================] - 0s 2ms/step - loss: 0.4071 - accuracy: 0.8542\n",
      "Epoch 250/300\n",
      "5/5 [==============================] - 0s 2ms/step - loss: 0.3904 - accuracy: 0.8403\n",
      "Epoch 251/300\n",
      "5/5 [==============================] - 0s 2ms/step - loss: 0.4069 - accuracy: 0.8125\n",
      "Epoch 252/300\n",
      "5/5 [==============================] - 0s 2ms/step - loss: 0.4078 - accuracy: 0.8472\n",
      "Epoch 253/300\n",
      "5/5 [==============================] - 0s 2ms/step - loss: 0.3974 - accuracy: 0.8333\n",
      "Epoch 254/300\n",
      "5/5 [==============================] - 0s 2ms/step - loss: 0.4041 - accuracy: 0.8125\n",
      "Epoch 255/300\n",
      "5/5 [==============================] - 0s 2ms/step - loss: 0.3811 - accuracy: 0.8403\n",
      "Epoch 256/300\n",
      "5/5 [==============================] - 0s 2ms/step - loss: 0.3804 - accuracy: 0.8542\n",
      "Epoch 257/300\n",
      "5/5 [==============================] - 0s 2ms/step - loss: 0.3932 - accuracy: 0.8264\n",
      "Epoch 258/300\n",
      "5/5 [==============================] - 0s 2ms/step - loss: 0.3859 - accuracy: 0.8611\n",
      "Epoch 259/300\n",
      "5/5 [==============================] - 0s 2ms/step - loss: 0.3749 - accuracy: 0.8681\n",
      "Epoch 260/300\n",
      "5/5 [==============================] - 0s 2ms/step - loss: 0.3914 - accuracy: 0.8403\n",
      "Epoch 261/300\n",
      "5/5 [==============================] - 0s 2ms/step - loss: 0.3875 - accuracy: 0.8472\n",
      "Epoch 262/300\n",
      "5/5 [==============================] - 0s 2ms/step - loss: 0.3757 - accuracy: 0.8611\n",
      "Epoch 263/300\n",
      "5/5 [==============================] - 0s 3ms/step - loss: 0.3833 - accuracy: 0.8403\n",
      "Epoch 264/300\n",
      "5/5 [==============================] - 0s 3ms/step - loss: 0.3831 - accuracy: 0.8472\n",
      "Epoch 265/300\n",
      "5/5 [==============================] - 0s 3ms/step - loss: 0.3824 - accuracy: 0.8472\n",
      "Epoch 266/300\n",
      "5/5 [==============================] - 0s 3ms/step - loss: 0.3770 - accuracy: 0.8542\n",
      "Epoch 267/300\n",
      "5/5 [==============================] - 0s 3ms/step - loss: 0.3958 - accuracy: 0.8194\n",
      "Epoch 268/300\n",
      "5/5 [==============================] - 0s 3ms/step - loss: 0.3899 - accuracy: 0.8611\n",
      "Epoch 269/300\n",
      "5/5 [==============================] - 0s 3ms/step - loss: 0.3740 - accuracy: 0.8681\n",
      "Epoch 270/300\n",
      "5/5 [==============================] - 0s 2ms/step - loss: 0.3830 - accuracy: 0.8472\n",
      "Epoch 271/300\n",
      "5/5 [==============================] - 0s 2ms/step - loss: 0.3882 - accuracy: 0.8333\n",
      "Epoch 272/300\n",
      "5/5 [==============================] - 0s 2ms/step - loss: 0.3857 - accuracy: 0.8264\n",
      "Epoch 273/300\n",
      "5/5 [==============================] - 0s 2ms/step - loss: 0.3801 - accuracy: 0.8611\n",
      "Epoch 274/300\n",
      "5/5 [==============================] - 0s 3ms/step - loss: 0.3781 - accuracy: 0.8472\n",
      "Epoch 275/300\n",
      "5/5 [==============================] - 0s 2ms/step - loss: 0.3764 - accuracy: 0.8681\n",
      "Epoch 276/300\n",
      "5/5 [==============================] - 0s 2ms/step - loss: 0.3748 - accuracy: 0.8542\n",
      "Epoch 277/300\n",
      "5/5 [==============================] - 0s 2ms/step - loss: 0.3981 - accuracy: 0.8333\n",
      "Epoch 278/300\n",
      "5/5 [==============================] - 0s 2ms/step - loss: 0.3730 - accuracy: 0.8681\n",
      "Epoch 279/300\n",
      "5/5 [==============================] - 0s 2ms/step - loss: 0.3964 - accuracy: 0.8403\n",
      "Epoch 280/300\n",
      "5/5 [==============================] - 0s 2ms/step - loss: 0.3751 - accuracy: 0.8611\n",
      "Epoch 281/300\n",
      "5/5 [==============================] - 0s 2ms/step - loss: 0.3748 - accuracy: 0.8681\n",
      "Epoch 282/300\n",
      "5/5 [==============================] - 0s 2ms/step - loss: 0.3723 - accuracy: 0.8542\n",
      "Epoch 283/300\n",
      "5/5 [==============================] - 0s 2ms/step - loss: 0.3927 - accuracy: 0.8403\n",
      "Epoch 284/300\n",
      "5/5 [==============================] - 0s 2ms/step - loss: 0.3729 - accuracy: 0.8681\n",
      "Epoch 285/300\n",
      "5/5 [==============================] - 0s 1ms/step - loss: 0.3714 - accuracy: 0.8611\n",
      "Epoch 286/300\n",
      "5/5 [==============================] - 0s 2ms/step - loss: 0.3841 - accuracy: 0.8750\n",
      "Epoch 287/300\n",
      "5/5 [==============================] - 0s 2ms/step - loss: 0.3737 - accuracy: 0.8681\n",
      "Epoch 288/300\n",
      "5/5 [==============================] - 0s 2ms/step - loss: 0.3760 - accuracy: 0.8542\n",
      "Epoch 289/300\n",
      "5/5 [==============================] - 0s 1ms/step - loss: 0.3760 - accuracy: 0.8542\n",
      "Epoch 290/300\n",
      "5/5 [==============================] - 0s 2ms/step - loss: 0.3819 - accuracy: 0.8542\n",
      "Epoch 291/300\n",
      "5/5 [==============================] - 0s 1ms/step - loss: 0.3786 - accuracy: 0.8611\n",
      "Epoch 292/300\n",
      "5/5 [==============================] - 0s 1ms/step - loss: 0.4373 - accuracy: 0.8194\n",
      "Epoch 293/300\n",
      "5/5 [==============================] - 0s 1ms/step - loss: 0.3691 - accuracy: 0.8611\n",
      "Epoch 294/300\n",
      "5/5 [==============================] - 0s 1ms/step - loss: 0.3918 - accuracy: 0.8194\n",
      "Epoch 295/300\n",
      "5/5 [==============================] - 0s 1ms/step - loss: 0.4008 - accuracy: 0.8333\n",
      "Epoch 296/300\n",
      "5/5 [==============================] - 0s 2ms/step - loss: 0.3775 - accuracy: 0.8611\n",
      "Epoch 297/300\n",
      "5/5 [==============================] - 0s 2ms/step - loss: 0.3911 - accuracy: 0.8194\n",
      "Epoch 298/300\n",
      "5/5 [==============================] - 0s 1ms/step - loss: 0.3713 - accuracy: 0.8542\n",
      "Epoch 299/300\n",
      "5/5 [==============================] - 0s 2ms/step - loss: 0.3774 - accuracy: 0.8403\n",
      "Epoch 300/300\n",
      "5/5 [==============================] - 0s 2ms/step - loss: 0.3744 - accuracy: 0.8472\n"
     ]
    },
    {
     "data": {
      "text/plain": [
       "<keras.callbacks.History at 0x2c17e4b85e0>"
      ]
     },
     "execution_count": 80,
     "metadata": {},
     "output_type": "execute_result"
    }
   ],
   "source": [
    "model.fit(X_train,Y_train,epochs=300)"
   ]
  },
  {
   "cell_type": "code",
   "execution_count": 81,
   "id": "a8dd1530",
   "metadata": {},
   "outputs": [
    {
     "name": "stdout",
     "output_type": "stream",
     "text": [
      "2/2 [==============================] - 0s 3ms/step\n"
     ]
    }
   ],
   "source": [
    "Y_pred_nn = model.predict(X_test)"
   ]
  },
  {
   "cell_type": "code",
   "execution_count": 82,
   "id": "bc883d2e",
   "metadata": {},
   "outputs": [
    {
     "data": {
      "text/plain": [
       "(36, 1)"
      ]
     },
     "execution_count": 82,
     "metadata": {},
     "output_type": "execute_result"
    }
   ],
   "source": [
    "Y_pred_nn.shape"
   ]
  },
  {
   "cell_type": "code",
   "execution_count": 83,
   "id": "29791bbe",
   "metadata": {},
   "outputs": [],
   "source": [
    "rounded = [round(x[0]) for x in Y_pred_nn]\n",
    "\n",
    "Y_pred_nn = rounded"
   ]
  },
  {
   "cell_type": "code",
   "execution_count": 84,
   "id": "3ab9556a",
   "metadata": {},
   "outputs": [
    {
     "name": "stdout",
     "output_type": "stream",
     "text": [
      "The accuracy score achieved using Neural Network is: 86.11 %\n"
     ]
    }
   ],
   "source": [
    "score_nn = round(accuracy_score(Y_pred_nn,Y_test)*100,2)\n",
    "\n",
    "print(\"The accuracy score achieved using Neural Network is: \"+str(score_nn)+\" %\")"
   ]
  },
  {
   "cell_type": "markdown",
   "id": "539da1c4",
   "metadata": {},
   "source": [
    "# Conclusion"
   ]
  },
  {
   "cell_type": "code",
   "execution_count": 85,
   "id": "c70f4a6a",
   "metadata": {},
   "outputs": [
    {
     "name": "stdout",
     "output_type": "stream",
     "text": [
      "The accuracy score achieved using Logistic Regression is: 86.11 %\n",
      "The accuracy score achieved using Naive Bayes is: 80.56 %\n",
      "The accuracy score achieved using Support Vector Machine is: 83.33 %\n",
      "The accuracy score achieved using K-Nearest Neighbors is: 58.33 %\n",
      "The accuracy score achieved using Decision Tree is: 91.67 %\n",
      "The accuracy score achieved using Random Forest is: 86.11 %\n",
      "The accuracy score achieved using XGBoost is: 83.33 %\n",
      "The accuracy score achieved using Neural Network is: 86.11 %\n"
     ]
    }
   ],
   "source": [
    "scores = [score_lr,score_nb,score_svm,score_knn,score_dt,score_rf,score_xgb,score_nn]\n",
    "algorithms = [\"Logistic Regression\",\"Naive Bayes\",\"Support Vector Machine\",\"K-Nearest Neighbors\",\"Decision Tree\",\"Random Forest\",\"XGBoost\",\"Neural Network\"]    \n",
    "\n",
    "for i in range(len(algorithms)):\n",
    "    print(\"The accuracy score achieved using \"+algorithms[i]+\" is: \"+str(scores[i])+\" %\")"
   ]
  },
  {
   "cell_type": "code",
   "execution_count": 86,
   "id": "9b552eba",
   "metadata": {},
   "outputs": [
    {
     "data": {
      "text/plain": [
       "<AxesSubplot:xlabel='Algorithms', ylabel='Accuracy score'>"
      ]
     },
     "execution_count": 86,
     "metadata": {},
     "output_type": "execute_result"
    },
    {
     "data": {
      "image/png": "[encoded data removed]",
      "text/plain": [
       "<Figure size 1080x576 with 1 Axes>"
      ]
     },
     "metadata": {},
     "output_type": "display_data"
    }
   ],
   "source": [
    "sns.set(rc={'figure.figsize':(15,8)})\n",
    "plt.xlabel(\"Algorithms\")\n",
    "plt.ylabel(\"Accuracy score\")\n",
    "\n",
    "sns.barplot(algorithms,scores)"
   ]
  },
  {
   "cell_type": "markdown",
   "id": "7f95768d",
   "metadata": {},
   "source": [
    "The Decision Tree algorithm gave the highest accuracy score of 91.67%"
   ]
  }
 ],
 "metadata": {
  "kernelspec": {
   "display_name": "Python 3 (ipykernel)",
   "language": "python",
   "name": "python3"
  },
  "language_info": {
   "codemirror_mode": {
    "name": "ipython",
    "version": 3
   },
   "file_extension": ".py",
   "mimetype": "text/x-python",
   "name": "python",
   "nbconvert_exporter": "python",
   "pygments_lexer": "ipython3",
   "version": "3.9.12"
  }
 },
 "nbformat": 4,
 "nbformat_minor": 5
}
